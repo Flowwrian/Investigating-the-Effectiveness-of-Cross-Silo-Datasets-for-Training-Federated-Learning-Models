{
 "cells": [
  {
   "attachments": {},
   "cell_type": "markdown",
   "metadata": {},
   "source": [
    "# Weather Dataset Analysis "
   ]
  },
  {
   "attachments": {},
   "cell_type": "markdown",
   "metadata": {},
   "source": [
    "This notebook examines the weather datasets from Meteostat (retrieved from https://meteostat.net/de/ on 25th november 2022). The dataset is used as a vertical use case for cross-silo federated learning. The goal is to predict the air temperature for a single weather station, given a selection of attributes of the last *n* days from this station."
   ]
  },
  {
   "attachments": {},
   "cell_type": "markdown",
   "metadata": {},
   "source": [
    "## Dataset Description"
   ]
  },
  {
   "cell_type": "code",
   "execution_count": 1,
   "metadata": {},
   "outputs": [
    {
     "name": "stderr",
     "output_type": "stream",
     "text": [
      "2023-02-03 16:20:18.479253: I tensorflow/core/platform/cpu_feature_guard.cc:193] This TensorFlow binary is optimized with oneAPI Deep Neural Network Library (oneDNN) to use the following CPU instructions in performance-critical operations:  AVX2 FMA\n",
      "To enable them in other operations, rebuild TensorFlow with the appropriate compiler flags.\n",
      "2023-02-03 16:20:20.810604: W tensorflow/compiler/xla/stream_executor/platform/default/dso_loader.cc:64] Could not load dynamic library 'libnvinfer.so.7'; dlerror: libnvinfer.so.7: cannot open shared object file: No such file or directory\n",
      "2023-02-03 16:20:20.810781: W tensorflow/compiler/xla/stream_executor/platform/default/dso_loader.cc:64] Could not load dynamic library 'libnvinfer_plugin.so.7'; dlerror: libnvinfer_plugin.so.7: cannot open shared object file: No such file or directory\n",
      "2023-02-03 16:20:20.810789: W tensorflow/compiler/tf2tensorrt/utils/py_utils.cc:38] TF-TRT Warning: Cannot dlopen some TensorRT libraries. If you would like to use Nvidia GPU with TensorRT, please make sure the missing libraries mentioned above are installed properly.\n"
     ]
    }
   ],
   "source": [
    "#import dependencies\n",
    "import numpy as np\n",
    "import pandas as pd\n",
    "import seaborn as sns\n",
    "\n",
    "from sktime.utils.plotting import plot_series\n",
    "import matplotlib.pyplot as plt\n",
    "\n",
    "import sys\n",
    "sys.path.insert(1, '../scripts')\n",
    "import helper"
   ]
  },
  {
   "cell_type": "code",
   "execution_count": 2,
   "metadata": {},
   "outputs": [
    {
     "data": {
      "text/html": [
       "<div>\n",
       "<style scoped>\n",
       "    .dataframe tbody tr th:only-of-type {\n",
       "        vertical-align: middle;\n",
       "    }\n",
       "\n",
       "    .dataframe tbody tr th {\n",
       "        vertical-align: top;\n",
       "    }\n",
       "\n",
       "    .dataframe thead th {\n",
       "        text-align: right;\n",
       "    }\n",
       "</style>\n",
       "<table border=\"1\" class=\"dataframe\">\n",
       "  <thead>\n",
       "    <tr style=\"text-align: right;\">\n",
       "      <th></th>\n",
       "      <th>time</th>\n",
       "      <th>temp</th>\n",
       "      <th>dwpt</th>\n",
       "      <th>rhum</th>\n",
       "      <th>prcp</th>\n",
       "      <th>snow</th>\n",
       "      <th>wdir</th>\n",
       "      <th>wspd</th>\n",
       "      <th>wpgt</th>\n",
       "      <th>pres</th>\n",
       "      <th>tsun</th>\n",
       "      <th>coco</th>\n",
       "    </tr>\n",
       "  </thead>\n",
       "  <tbody>\n",
       "    <tr>\n",
       "      <th>0</th>\n",
       "      <td>1969-12-02</td>\n",
       "      <td>-1.3</td>\n",
       "      <td>-4.5</td>\n",
       "      <td>2.5</td>\n",
       "      <td>NaN</td>\n",
       "      <td>NaN</td>\n",
       "      <td>NaN</td>\n",
       "      <td>NaN</td>\n",
       "      <td>NaN</td>\n",
       "      <td>NaN</td>\n",
       "      <td>NaN</td>\n",
       "      <td>NaN</td>\n",
       "    </tr>\n",
       "    <tr>\n",
       "      <th>1</th>\n",
       "      <td>1969-12-03</td>\n",
       "      <td>1.5</td>\n",
       "      <td>1.0</td>\n",
       "      <td>2.5</td>\n",
       "      <td>NaN</td>\n",
       "      <td>NaN</td>\n",
       "      <td>NaN</td>\n",
       "      <td>NaN</td>\n",
       "      <td>NaN</td>\n",
       "      <td>NaN</td>\n",
       "      <td>NaN</td>\n",
       "      <td>NaN</td>\n",
       "    </tr>\n",
       "    <tr>\n",
       "      <th>2</th>\n",
       "      <td>1969-12-04</td>\n",
       "      <td>-0.5</td>\n",
       "      <td>-2.0</td>\n",
       "      <td>1.5</td>\n",
       "      <td>NaN</td>\n",
       "      <td>NaN</td>\n",
       "      <td>NaN</td>\n",
       "      <td>NaN</td>\n",
       "      <td>NaN</td>\n",
       "      <td>NaN</td>\n",
       "      <td>NaN</td>\n",
       "      <td>NaN</td>\n",
       "    </tr>\n",
       "    <tr>\n",
       "      <th>3</th>\n",
       "      <td>1969-12-05</td>\n",
       "      <td>-3.2</td>\n",
       "      <td>-5.0</td>\n",
       "      <td>-2.0</td>\n",
       "      <td>NaN</td>\n",
       "      <td>NaN</td>\n",
       "      <td>NaN</td>\n",
       "      <td>NaN</td>\n",
       "      <td>NaN</td>\n",
       "      <td>NaN</td>\n",
       "      <td>NaN</td>\n",
       "      <td>NaN</td>\n",
       "    </tr>\n",
       "    <tr>\n",
       "      <th>4</th>\n",
       "      <td>1969-12-06</td>\n",
       "      <td>-2.1</td>\n",
       "      <td>-3.5</td>\n",
       "      <td>-1.0</td>\n",
       "      <td>NaN</td>\n",
       "      <td>NaN</td>\n",
       "      <td>NaN</td>\n",
       "      <td>NaN</td>\n",
       "      <td>NaN</td>\n",
       "      <td>NaN</td>\n",
       "      <td>NaN</td>\n",
       "      <td>NaN</td>\n",
       "    </tr>\n",
       "  </tbody>\n",
       "</table>\n",
       "</div>"
      ],
      "text/plain": [
       "         time  temp  dwpt  rhum  prcp  snow  wdir  wspd  wpgt  pres  tsun  \\\n",
       "0  1969-12-02  -1.3  -4.5   2.5   NaN   NaN   NaN   NaN   NaN   NaN   NaN   \n",
       "1  1969-12-03   1.5   1.0   2.5   NaN   NaN   NaN   NaN   NaN   NaN   NaN   \n",
       "2  1969-12-04  -0.5  -2.0   1.5   NaN   NaN   NaN   NaN   NaN   NaN   NaN   \n",
       "3  1969-12-05  -3.2  -5.0  -2.0   NaN   NaN   NaN   NaN   NaN   NaN   NaN   \n",
       "4  1969-12-06  -2.1  -3.5  -1.0   NaN   NaN   NaN   NaN   NaN   NaN   NaN   \n",
       "\n",
       "   coco  \n",
       "0   NaN  \n",
       "1   NaN  \n",
       "2   NaN  \n",
       "3   NaN  \n",
       "4   NaN  "
      ]
     },
     "execution_count": 2,
     "metadata": {},
     "output_type": "execute_result"
    }
   ],
   "source": [
    "#load dataset\n",
    "#the weather station Berlin Alexanderplatz is chosen as the examplary station\n",
    "data = pd.read_csv(\"../datasets/vertical/weather/berlin_alexanderplatz.csv\", names=[\"time\", \"temp\", \"dwpt\", \"rhum\", \"prcp\", \"snow\", \"wdir\", \"wspd\", \"wpgt\", \"pres\", \"tsun\", \"coco\"])\n",
    "data.head()"
   ]
  },
  {
   "cell_type": "code",
   "execution_count": 3,
   "metadata": {},
   "outputs": [
    {
     "data": {
      "text/html": [
       "<div>\n",
       "<style scoped>\n",
       "    .dataframe tbody tr th:only-of-type {\n",
       "        vertical-align: middle;\n",
       "    }\n",
       "\n",
       "    .dataframe tbody tr th {\n",
       "        vertical-align: top;\n",
       "    }\n",
       "\n",
       "    .dataframe thead th {\n",
       "        text-align: right;\n",
       "    }\n",
       "</style>\n",
       "<table border=\"1\" class=\"dataframe\">\n",
       "  <thead>\n",
       "    <tr style=\"text-align: right;\">\n",
       "      <th></th>\n",
       "      <th>count</th>\n",
       "      <th>mean</th>\n",
       "      <th>std</th>\n",
       "      <th>min</th>\n",
       "      <th>25%</th>\n",
       "      <th>50%</th>\n",
       "      <th>75%</th>\n",
       "      <th>max</th>\n",
       "    </tr>\n",
       "  </thead>\n",
       "  <tbody>\n",
       "    <tr>\n",
       "      <th>temp</th>\n",
       "      <td>16515.0</td>\n",
       "      <td>10.608653</td>\n",
       "      <td>7.861329</td>\n",
       "      <td>-17.6</td>\n",
       "      <td>4.6</td>\n",
       "      <td>10.6</td>\n",
       "      <td>16.8</td>\n",
       "      <td>31.1</td>\n",
       "    </tr>\n",
       "    <tr>\n",
       "      <th>dwpt</th>\n",
       "      <td>16513.0</td>\n",
       "      <td>7.365076</td>\n",
       "      <td>6.997318</td>\n",
       "      <td>-18.7</td>\n",
       "      <td>2.2</td>\n",
       "      <td>7.4</td>\n",
       "      <td>13.0</td>\n",
       "      <td>24.7</td>\n",
       "    </tr>\n",
       "    <tr>\n",
       "      <th>rhum</th>\n",
       "      <td>16514.0</td>\n",
       "      <td>14.120358</td>\n",
       "      <td>8.975399</td>\n",
       "      <td>-14.9</td>\n",
       "      <td>7.1</td>\n",
       "      <td>14.1</td>\n",
       "      <td>21.1</td>\n",
       "      <td>38.0</td>\n",
       "    </tr>\n",
       "    <tr>\n",
       "      <th>prcp</th>\n",
       "      <td>11987.0</td>\n",
       "      <td>1.579361</td>\n",
       "      <td>3.642694</td>\n",
       "      <td>0.0</td>\n",
       "      <td>0.0</td>\n",
       "      <td>0.0</td>\n",
       "      <td>1.5</td>\n",
       "      <td>60.4</td>\n",
       "    </tr>\n",
       "    <tr>\n",
       "      <th>snow</th>\n",
       "      <td>4117.0</td>\n",
       "      <td>5.176099</td>\n",
       "      <td>23.663484</td>\n",
       "      <td>0.0</td>\n",
       "      <td>0.0</td>\n",
       "      <td>0.0</td>\n",
       "      <td>0.0</td>\n",
       "      <td>310.0</td>\n",
       "    </tr>\n",
       "    <tr>\n",
       "      <th>wdir</th>\n",
       "      <td>10598.0</td>\n",
       "      <td>208.351670</td>\n",
       "      <td>93.444179</td>\n",
       "      <td>0.0</td>\n",
       "      <td>131.0</td>\n",
       "      <td>235.0</td>\n",
       "      <td>280.0</td>\n",
       "      <td>360.0</td>\n",
       "    </tr>\n",
       "    <tr>\n",
       "      <th>wspd</th>\n",
       "      <td>11034.0</td>\n",
       "      <td>28.778204</td>\n",
       "      <td>15.034219</td>\n",
       "      <td>0.0</td>\n",
       "      <td>16.6</td>\n",
       "      <td>26.6</td>\n",
       "      <td>38.9</td>\n",
       "      <td>115.2</td>\n",
       "    </tr>\n",
       "    <tr>\n",
       "      <th>wpgt</th>\n",
       "      <td>8395.0</td>\n",
       "      <td>53.423204</td>\n",
       "      <td>21.768710</td>\n",
       "      <td>0.0</td>\n",
       "      <td>36.0</td>\n",
       "      <td>51.5</td>\n",
       "      <td>67.7</td>\n",
       "      <td>154.8</td>\n",
       "    </tr>\n",
       "    <tr>\n",
       "      <th>pres</th>\n",
       "      <td>11936.0</td>\n",
       "      <td>1010.997009</td>\n",
       "      <td>9.549732</td>\n",
       "      <td>961.3</td>\n",
       "      <td>1005.2</td>\n",
       "      <td>1011.3</td>\n",
       "      <td>1017.2</td>\n",
       "      <td>1044.8</td>\n",
       "    </tr>\n",
       "    <tr>\n",
       "      <th>tsun</th>\n",
       "      <td>31.0</td>\n",
       "      <td>15.483871</td>\n",
       "      <td>60.651942</td>\n",
       "      <td>0.0</td>\n",
       "      <td>0.0</td>\n",
       "      <td>0.0</td>\n",
       "      <td>0.0</td>\n",
       "      <td>276.0</td>\n",
       "    </tr>\n",
       "    <tr>\n",
       "      <th>coco</th>\n",
       "      <td>0.0</td>\n",
       "      <td>NaN</td>\n",
       "      <td>NaN</td>\n",
       "      <td>NaN</td>\n",
       "      <td>NaN</td>\n",
       "      <td>NaN</td>\n",
       "      <td>NaN</td>\n",
       "      <td>NaN</td>\n",
       "    </tr>\n",
       "  </tbody>\n",
       "</table>\n",
       "</div>"
      ],
      "text/plain": [
       "        count         mean        std    min     25%     50%     75%     max\n",
       "temp  16515.0    10.608653   7.861329  -17.6     4.6    10.6    16.8    31.1\n",
       "dwpt  16513.0     7.365076   6.997318  -18.7     2.2     7.4    13.0    24.7\n",
       "rhum  16514.0    14.120358   8.975399  -14.9     7.1    14.1    21.1    38.0\n",
       "prcp  11987.0     1.579361   3.642694    0.0     0.0     0.0     1.5    60.4\n",
       "snow   4117.0     5.176099  23.663484    0.0     0.0     0.0     0.0   310.0\n",
       "wdir  10598.0   208.351670  93.444179    0.0   131.0   235.0   280.0   360.0\n",
       "wspd  11034.0    28.778204  15.034219    0.0    16.6    26.6    38.9   115.2\n",
       "wpgt   8395.0    53.423204  21.768710    0.0    36.0    51.5    67.7   154.8\n",
       "pres  11936.0  1010.997009   9.549732  961.3  1005.2  1011.3  1017.2  1044.8\n",
       "tsun     31.0    15.483871  60.651942    0.0     0.0     0.0     0.0   276.0\n",
       "coco      0.0          NaN        NaN    NaN     NaN     NaN     NaN     NaN"
      ]
     },
     "execution_count": 3,
     "metadata": {},
     "output_type": "execute_result"
    }
   ],
   "source": [
    "data.describe().transpose()"
   ]
  },
  {
   "cell_type": "code",
   "execution_count": 4,
   "metadata": {},
   "outputs": [
    {
     "data": {
      "text/plain": [
       "[Text(0.5, 1.0, 'Measured temperature at Berlin Alexanderplatz')]"
      ]
     },
     "execution_count": 4,
     "metadata": {},
     "output_type": "execute_result"
    },
    {
     "data": {
      "image/png": "[encoded data removed]",
      "text/plain": [
       "<Figure size 640x480 with 1 Axes>"
      ]
     },
     "metadata": {},
     "output_type": "display_data"
    }
   ],
   "source": [
    "sns.lineplot(data, x=\"time\", y=\"temp\").set(title=\"Measured temperature at Berlin Alexanderplatz\")"
   ]
  },
  {
   "cell_type": "code",
   "execution_count": 5,
   "metadata": {},
   "outputs": [
    {
     "data": {
      "text/plain": [
       "[Text(0.5, 1.0, 'Measured temperature at Berlin Alexanderplatz within the last 365 days')]"
      ]
     },
     "execution_count": 5,
     "metadata": {},
     "output_type": "execute_result"
    },
    {
     "data": {
      "image/png": "[encoded data removed]",
      "text/plain": [
       "<Figure size 640x480 with 1 Axes>"
      ]
     },
     "metadata": {},
     "output_type": "display_data"
    }
   ],
   "source": [
    "sns.lineplot(data.iloc[-365:], x=\"time\", y=\"temp\").set(title=\"Measured temperature at Berlin Alexanderplatz within the last 365 days\")"
   ]
  },
  {
   "cell_type": "code",
   "execution_count": 6,
   "metadata": {},
   "outputs": [
    {
     "name": "stderr",
     "output_type": "stream",
     "text": [
      "/tmp/ipykernel_2286/2634944063.py:1: FutureWarning: The default value of numeric_only in DataFrame.corr is deprecated. In a future version, it will default to False. Select only valid columns or specify the value of numeric_only to silence this warning.\n",
      "  corr = data.corr()\n"
     ]
    },
    {
     "data": {
      "text/plain": [
       "<AxesSubplot: >"
      ]
     },
     "execution_count": 6,
     "metadata": {},
     "output_type": "execute_result"
    },
    {
     "data": {
      "image/png": "[encoded data removed]",
      "text/plain": [
       "<Figure size 640x480 with 2 Axes>"
      ]
     },
     "metadata": {},
     "output_type": "display_data"
    }
   ],
   "source": [
    "corr = data.corr()\n",
    "sns.heatmap(corr, xticklabels=True, yticklabels=True)\n"
   ]
  },
  {
   "cell_type": "code",
   "execution_count": 7,
   "metadata": {},
   "outputs": [
    {
     "data": {
      "text/plain": [
       "count    10.000000\n",
       "mean      0.220346\n",
       "std       0.542975\n",
       "min      -0.400857\n",
       "25%      -0.096518\n",
       "50%      -0.016535\n",
       "75%       0.738686\n",
       "max       1.000000\n",
       "Name: temp, dtype: float64"
      ]
     },
     "execution_count": 7,
     "metadata": {},
     "output_type": "execute_result"
    }
   ],
   "source": [
    "corr.temp.describe()"
   ]
  },
  {
   "cell_type": "code",
   "execution_count": 8,
   "metadata": {},
   "outputs": [
    {
     "data": {
      "text/plain": [
       "temp    1.000000\n",
       "rhum    0.987750\n",
       "dwpt    0.976184\n",
       "prcp    0.026191\n",
       "wdir    0.023584\n",
       "pres   -0.056654\n",
       "wpgt   -0.086019\n",
       "tsun   -0.100018\n",
       "wspd   -0.166704\n",
       "snow   -0.400857\n",
       "Name: temp, dtype: float64"
      ]
     },
     "execution_count": 8,
     "metadata": {},
     "output_type": "execute_result"
    }
   ],
   "source": [
    "corr.temp.sort_values(ascending=False).head(n=10)"
   ]
  },
  {
   "attachments": {},
   "cell_type": "markdown",
   "metadata": {},
   "source": [
    "## Model Parameter Selection"
   ]
  },
  {
   "attachments": {},
   "cell_type": "markdown",
   "metadata": {},
   "source": [
    "This section finds the optimal parameters for models trained on the weather datasets. The selected attributes are *temp*, *rhum* and *dwpt*. Althought *snow* has a correlation of around -0.4 it is left out because only a fraction of records actually include this attribute. This is also the case for the other weather stations."
   ]
  },
  {
   "cell_type": "code",
   "execution_count": 63,
   "metadata": {},
   "outputs": [],
   "source": [
    "from sktime.forecasting.model_selection import SlidingWindowSplitter\n",
    "from sklearn.preprocessing import StandardScaler\n",
    "import pandas as pd\n",
    "import numpy as np\n",
    "\n",
    "\n",
    "def _get_samples_from_weather_data(n: int, attributes: list[str], station: str, num_of_samples: int):\n",
    "    \"\"\"\n",
    "    Generates samples from the covid dataset.\n",
    "    Args:\n",
    "        n (int): Numbers of records per sample.\n",
    "        attributes (list[str]): List of attributes that will be used from the dataset. The fist element is the endogene variable.\n",
    "        station (str): Name of the station.\n",
    "        num_of_samples (int): Number of returned samples.\n",
    "    \"\"\"\n",
    "\n",
    "\n",
    "\n",
    "    #load data\n",
    "    path = f\"/home/florian/bachelorarbeit/code/Cross-Silo-FL/datasets/vertical/weather/{station}.csv\"\n",
    "    data = pd.read_csv(path, names=[\"time\", \"temp\", \"dwpt\", \"rhum\", \"prcp\", \"snow\", \"wdir\", \"wspd\", \"wpgt\", \"pres\", \"tsun\", \"coco\"])\n",
    "    data = data[attributes]\n",
    "    data = data.dropna()\n",
    "    #scale the data\n",
    "    # data = data.drop(\"time\", axis=1)\n",
    "    # data_columns = data.columns\n",
    "    # scaler = StandardScaler()\n",
    "    # scaled_data = scaler.fit_transform(data)\n",
    "    # data = pd.DataFrame(scaled_data, columns=data_columns)\n",
    "\n",
    "    X = np.empty(shape=(num_of_samples, n))\n",
    "    y = np.empty(shape=(num_of_samples,))\n",
    "\n",
    "\n",
    "    #split the data\n",
    "    splitter = SlidingWindowSplitter(fh=1, window_length=n)\n",
    "    samples = splitter.split_series(data[attributes].to_numpy())\n",
    "\n",
    "    i = 0\n",
    "    for features, label in samples:\n",
    "        X[i] = features.flatten()\n",
    "        y[i] = label\n",
    "\n",
    "        i += 1\n",
    "\n",
    "        if i == num_of_samples:\n",
    "            break\n",
    "\n",
    "    return X, y\n"
   ]
  },
  {
   "cell_type": "code",
   "execution_count": 64,
   "metadata": {},
   "outputs": [],
   "source": [
    "X, y  = _get_samples_from_weather_data(10, [\"temp\"], \"berlin_alexanderplatz\", 10000)"
   ]
  },
  {
   "cell_type": "code",
   "execution_count": 41,
   "metadata": {},
   "outputs": [
    {
     "data": {
      "text/plain": [
       "(10000, 10)"
      ]
     },
     "execution_count": 41,
     "metadata": {},
     "output_type": "execute_result"
    }
   ],
   "source": [
    "X.shape"
   ]
  },
  {
   "cell_type": "code",
   "execution_count": 42,
   "metadata": {},
   "outputs": [
    {
     "data": {
      "text/plain": [
       "(10000, 1)"
      ]
     },
     "execution_count": 42,
     "metadata": {},
     "output_type": "execute_result"
    }
   ],
   "source": [
    "y.shape"
   ]
  },
  {
   "cell_type": "code",
   "execution_count": 55,
   "metadata": {},
   "outputs": [
    {
     "data": {
      "text/plain": [
       "array([[-1.3,  1.5, -0.5, -3.2, -2.1, -2.4, -3.2, -3.8, -3.4,  0.4],\n",
       "       [ 1.5, -0.5, -3.2, -2.1, -2.4, -3.2, -3.8, -3.4,  0.4,  0.5]])"
      ]
     },
     "execution_count": 55,
     "metadata": {},
     "output_type": "execute_result"
    }
   ],
   "source": [
    "X[:2]"
   ]
  },
  {
   "cell_type": "code",
   "execution_count": 56,
   "metadata": {},
   "outputs": [
    {
     "data": {
      "text/plain": [
       "array([[ 0.5],\n",
       "       [-0.9]])"
      ]
     },
     "execution_count": 56,
     "metadata": {},
     "output_type": "execute_result"
    }
   ],
   "source": [
    "y[:2]"
   ]
  },
  {
   "cell_type": "code",
   "execution_count": 65,
   "metadata": {},
   "outputs": [
    {
     "data": {
      "text/plain": [
       "(array([[-1.3,  1.5, -0.5, ..., -3.8, -3.4,  0.4],\n",
       "        [ 1.5, -0.5, -3.2, ..., -3.4,  0.4,  0.5],\n",
       "        [-0.5, -3.2, -2.1, ...,  0.4,  0.5, -0.9],\n",
       "        ...,\n",
       "        [ 0. ,  0. ,  0. , ...,  0. ,  0. ,  0. ],\n",
       "        [ 0. ,  0. ,  0. , ...,  0. ,  0. ,  0. ],\n",
       "        [ 0. ,  0. ,  0. , ...,  0. ,  0. ,  0. ]]),\n",
       " array([ 0.5, -0.9, -1.6, ...,  0. ,  0. ,  0. ]))"
      ]
     },
     "execution_count": 65,
     "metadata": {},
     "output_type": "execute_result"
    }
   ],
   "source": [
    "attributes = [\"temp\", \"rhum\", \"dwpt\"]\n",
    "samples = _get_samples_from_weather_data( 10, [\"temp\"], \"berlin_alexanderplatz\", 100000)\n",
    "samples"
   ]
  },
  {
   "attachments": {},
   "cell_type": "markdown",
   "metadata": {},
   "source": [
    "## Linear Regression"
   ]
  },
  {
   "cell_type": "code",
   "execution_count": 59,
   "metadata": {},
   "outputs": [],
   "source": [
    "from sklearn.linear_model import LinearRegression\n",
    "from sklearn.model_selection import GridSearchCV"
   ]
  },
  {
   "cell_type": "code",
   "execution_count": 13,
   "metadata": {},
   "outputs": [
    {
     "data": {
      "text/plain": [
       "{'fit_intercept': True, 'positive': False}"
      ]
     },
     "execution_count": 13,
     "metadata": {},
     "output_type": "execute_result"
    }
   ],
   "source": [
    "lm_params = {\"fit_intercept\": [True, False], \"positive\": [True, False]}\n",
    "lm = LinearRegression()\n",
    "lm_grid = GridSearchCV(lm, lm_params, scoring=\"neg_mean_absolute_error\")\n",
    "\n",
    "lm_grid.fit(samples[0], samples[1])\n",
    "lm_grid.best_params_"
   ]
  },
  {
   "cell_type": "code",
   "execution_count": 71,
   "metadata": {},
   "outputs": [
    {
     "data": {
      "text/html": [
       "<style>#sk-container-id-1 {color: black;background-color: white;}#sk-container-id-1 pre{padding: 0;}#sk-container-id-1 div.sk-toggleable {background-color: white;}#sk-container-id-1 label.sk-toggleable__label {cursor: pointer;display: block;width: 100%;margin-bottom: 0;padding: 0.3em;box-sizing: border-box;text-align: center;}#sk-container-id-1 label.sk-toggleable__label-arrow:before {content: \"▸\";float: left;margin-right: 0.25em;color: #696969;}#sk-container-id-1 label.sk-toggleable__label-arrow:hover:before {color: black;}#sk-container-id-1 div.sk-estimator:hover label.sk-toggleable__label-arrow:before {color: black;}#sk-container-id-1 div.sk-toggleable__content {max-height: 0;max-width: 0;overflow: hidden;text-align: left;background-color: #f0f8ff;}#sk-container-id-1 div.sk-toggleable__content pre {margin: 0.2em;color: black;border-radius: 0.25em;background-color: #f0f8ff;}#sk-container-id-1 input.sk-toggleable__control:checked~div.sk-toggleable__content {max-height: 200px;max-width: 100%;overflow: auto;}#sk-container-id-1 input.sk-toggleable__control:checked~label.sk-toggleable__label-arrow:before {content: \"▾\";}#sk-container-id-1 div.sk-estimator input.sk-toggleable__control:checked~label.sk-toggleable__label {background-color: #d4ebff;}#sk-container-id-1 div.sk-label input.sk-toggleable__control:checked~label.sk-toggleable__label {background-color: #d4ebff;}#sk-container-id-1 input.sk-hidden--visually {border: 0;clip: rect(1px 1px 1px 1px);clip: rect(1px, 1px, 1px, 1px);height: 1px;margin: -1px;overflow: hidden;padding: 0;position: absolute;width: 1px;}#sk-container-id-1 div.sk-estimator {font-family: monospace;background-color: #f0f8ff;border: 1px dotted black;border-radius: 0.25em;box-sizing: border-box;margin-bottom: 0.5em;}#sk-container-id-1 div.sk-estimator:hover {background-color: #d4ebff;}#sk-container-id-1 div.sk-parallel-item::after {content: \"\";width: 100%;border-bottom: 1px solid gray;flex-grow: 1;}#sk-container-id-1 div.sk-label:hover label.sk-toggleable__label {background-color: #d4ebff;}#sk-container-id-1 div.sk-serial::before {content: \"\";position: absolute;border-left: 1px solid gray;box-sizing: border-box;top: 0;bottom: 0;left: 50%;z-index: 0;}#sk-container-id-1 div.sk-serial {display: flex;flex-direction: column;align-items: center;background-color: white;padding-right: 0.2em;padding-left: 0.2em;position: relative;}#sk-container-id-1 div.sk-item {position: relative;z-index: 1;}#sk-container-id-1 div.sk-parallel {display: flex;align-items: stretch;justify-content: center;background-color: white;position: relative;}#sk-container-id-1 div.sk-item::before, #sk-container-id-1 div.sk-parallel-item::before {content: \"\";position: absolute;border-left: 1px solid gray;box-sizing: border-box;top: 0;bottom: 0;left: 50%;z-index: -1;}#sk-container-id-1 div.sk-parallel-item {display: flex;flex-direction: column;z-index: 1;position: relative;background-color: white;}#sk-container-id-1 div.sk-parallel-item:first-child::after {align-self: flex-end;width: 50%;}#sk-container-id-1 div.sk-parallel-item:last-child::after {align-self: flex-start;width: 50%;}#sk-container-id-1 div.sk-parallel-item:only-child::after {width: 0;}#sk-container-id-1 div.sk-dashed-wrapped {border: 1px dashed gray;margin: 0 0.4em 0.5em 0.4em;box-sizing: border-box;padding-bottom: 0.4em;background-color: white;}#sk-container-id-1 div.sk-label label {font-family: monospace;font-weight: bold;display: inline-block;line-height: 1.2em;}#sk-container-id-1 div.sk-label-container {text-align: center;}#sk-container-id-1 div.sk-container {/* jupyter's `normalize.less` sets `[hidden] { display: none; }` but bootstrap.min.css set `[hidden] { display: none !important; }` so we also need the `!important` here to be able to override the default hidden behavior on the sphinx rendered scikit-learn.org. See: https://github.com/scikit-learn/scikit-learn/issues/21755 */display: inline-block !important;position: relative;}#sk-container-id-1 div.sk-text-repr-fallback {display: none;}</style><div id=\"sk-container-id-1\" class=\"sk-top-container\"><div class=\"sk-text-repr-fallback\"><pre>Ridge()</pre><b>In a Jupyter environment, please rerun this cell to show the HTML representation or trust the notebook. <br />On GitHub, the HTML representation is unable to render, please try loading this page with nbviewer.org.</b></div><div class=\"sk-container\" hidden><div class=\"sk-item\"><div class=\"sk-estimator sk-toggleable\"><input class=\"sk-toggleable__control sk-hidden--visually\" id=\"sk-estimator-id-1\" type=\"checkbox\" checked><label for=\"sk-estimator-id-1\" class=\"sk-toggleable__label sk-toggleable__label-arrow\">Ridge</label><div class=\"sk-toggleable__content\"><pre>Ridge()</pre></div></div></div></div></div>"
      ],
      "text/plain": [
       "Ridge()"
      ]
     },
     "execution_count": 71,
     "metadata": {},
     "output_type": "execute_result"
    }
   ],
   "source": [
    "from sklearn.linear_model import Ridge\n",
    "\n",
    "ridge = Ridge()\n",
    "ridge.fit(samples[0], samples[1])"
   ]
  },
  {
   "cell_type": "code",
   "execution_count": 73,
   "metadata": {},
   "outputs": [
    {
     "data": {
      "text/plain": [
       "0.29106164033841"
      ]
     },
     "execution_count": 73,
     "metadata": {},
     "output_type": "execute_result"
    }
   ],
   "source": [
    "from sklearn.metrics import mean_absolute_error\n",
    "\n",
    "mean_absolute_error(samples[1], ridge.predict(samples[0]))"
   ]
  },
  {
   "attachments": {},
   "cell_type": "markdown",
   "metadata": {},
   "source": [
    "## Linear Support Vector Machine"
   ]
  },
  {
   "cell_type": "code",
   "execution_count": 60,
   "metadata": {},
   "outputs": [],
   "source": [
    "from sklearn.svm import LinearSVR"
   ]
  },
  {
   "cell_type": "code",
   "execution_count": 69,
   "metadata": {},
   "outputs": [
    {
     "name": "stderr",
     "output_type": "stream",
     "text": [
      "/home/florian/.local/lib/python3.10/site-packages/sklearn/svm/_base.py:1244: ConvergenceWarning: Liblinear failed to converge, increase the number of iterations.\n",
      "  warnings.warn(\n",
      "/home/florian/.local/lib/python3.10/site-packages/sklearn/svm/_base.py:1244: ConvergenceWarning: Liblinear failed to converge, increase the number of iterations.\n",
      "  warnings.warn(\n",
      "/home/florian/.local/lib/python3.10/site-packages/sklearn/svm/_base.py:1244: ConvergenceWarning: Liblinear failed to converge, increase the number of iterations.\n",
      "  warnings.warn(\n",
      "/home/florian/.local/lib/python3.10/site-packages/sklearn/svm/_base.py:1244: ConvergenceWarning: Liblinear failed to converge, increase the number of iterations.\n",
      "  warnings.warn(\n",
      "/home/florian/.local/lib/python3.10/site-packages/sklearn/svm/_base.py:1244: ConvergenceWarning: Liblinear failed to converge, increase the number of iterations.\n",
      "  warnings.warn(\n",
      "/home/florian/.local/lib/python3.10/site-packages/sklearn/svm/_base.py:1244: ConvergenceWarning: Liblinear failed to converge, increase the number of iterations.\n",
      "  warnings.warn(\n",
      "/home/florian/.local/lib/python3.10/site-packages/sklearn/svm/_base.py:1244: ConvergenceWarning: Liblinear failed to converge, increase the number of iterations.\n",
      "  warnings.warn(\n",
      "/home/florian/.local/lib/python3.10/site-packages/sklearn/svm/_base.py:1244: ConvergenceWarning: Liblinear failed to converge, increase the number of iterations.\n",
      "  warnings.warn(\n",
      "/home/florian/.local/lib/python3.10/site-packages/sklearn/svm/_base.py:1244: ConvergenceWarning: Liblinear failed to converge, increase the number of iterations.\n",
      "  warnings.warn(\n",
      "/home/florian/.local/lib/python3.10/site-packages/sklearn/svm/_base.py:1244: ConvergenceWarning: Liblinear failed to converge, increase the number of iterations.\n",
      "  warnings.warn(\n",
      "/home/florian/.local/lib/python3.10/site-packages/sklearn/svm/_base.py:1244: ConvergenceWarning: Liblinear failed to converge, increase the number of iterations.\n",
      "  warnings.warn(\n",
      "/home/florian/.local/lib/python3.10/site-packages/sklearn/svm/_base.py:1244: ConvergenceWarning: Liblinear failed to converge, increase the number of iterations.\n",
      "  warnings.warn(\n",
      "/home/florian/.local/lib/python3.10/site-packages/sklearn/svm/_base.py:1244: ConvergenceWarning: Liblinear failed to converge, increase the number of iterations.\n",
      "  warnings.warn(\n",
      "/home/florian/.local/lib/python3.10/site-packages/sklearn/svm/_base.py:1244: ConvergenceWarning: Liblinear failed to converge, increase the number of iterations.\n",
      "  warnings.warn(\n"
     ]
    },
    {
     "ename": "KeyboardInterrupt",
     "evalue": "",
     "output_type": "error",
     "traceback": [
      "\u001b[0;31m---------------------------------------------------------------------------\u001b[0m",
      "\u001b[0;31mKeyboardInterrupt\u001b[0m                         Traceback (most recent call last)",
      "Cell \u001b[0;32mIn[69], line 5\u001b[0m\n\u001b[1;32m      2\u001b[0m svm \u001b[39m=\u001b[39m LinearSVR()\n\u001b[1;32m      3\u001b[0m svm_grid \u001b[39m=\u001b[39m GridSearchCV(svm, svm_params, scoring\u001b[39m=\u001b[39m\u001b[39m\"\u001b[39m\u001b[39mneg_mean_absolute_error\u001b[39m\u001b[39m\"\u001b[39m)\n\u001b[0;32m----> 5\u001b[0m svm_grid\u001b[39m.\u001b[39;49mfit(samples[\u001b[39m0\u001b[39;49m], samples[\u001b[39m1\u001b[39;49m])\n",
      "File \u001b[0;32m~/.local/lib/python3.10/site-packages/sklearn/model_selection/_search.py:875\u001b[0m, in \u001b[0;36mBaseSearchCV.fit\u001b[0;34m(self, X, y, groups, **fit_params)\u001b[0m\n\u001b[1;32m    869\u001b[0m     results \u001b[39m=\u001b[39m \u001b[39mself\u001b[39m\u001b[39m.\u001b[39m_format_results(\n\u001b[1;32m    870\u001b[0m         all_candidate_params, n_splits, all_out, all_more_results\n\u001b[1;32m    871\u001b[0m     )\n\u001b[1;32m    873\u001b[0m     \u001b[39mreturn\u001b[39;00m results\n\u001b[0;32m--> 875\u001b[0m \u001b[39mself\u001b[39;49m\u001b[39m.\u001b[39;49m_run_search(evaluate_candidates)\n\u001b[1;32m    877\u001b[0m \u001b[39m# multimetric is determined here because in the case of a callable\u001b[39;00m\n\u001b[1;32m    878\u001b[0m \u001b[39m# self.scoring the return type is only known after calling\u001b[39;00m\n\u001b[1;32m    879\u001b[0m first_test_score \u001b[39m=\u001b[39m all_out[\u001b[39m0\u001b[39m][\u001b[39m\"\u001b[39m\u001b[39mtest_scores\u001b[39m\u001b[39m\"\u001b[39m]\n",
      "File \u001b[0;32m~/.local/lib/python3.10/site-packages/sklearn/model_selection/_search.py:1389\u001b[0m, in \u001b[0;36mGridSearchCV._run_search\u001b[0;34m(self, evaluate_candidates)\u001b[0m\n\u001b[1;32m   1387\u001b[0m \u001b[39mdef\u001b[39;00m \u001b[39m_run_search\u001b[39m(\u001b[39mself\u001b[39m, evaluate_candidates):\n\u001b[1;32m   1388\u001b[0m     \u001b[39m\"\"\"Search all candidates in param_grid\"\"\"\u001b[39;00m\n\u001b[0;32m-> 1389\u001b[0m     evaluate_candidates(ParameterGrid(\u001b[39mself\u001b[39;49m\u001b[39m.\u001b[39;49mparam_grid))\n",
      "File \u001b[0;32m~/.local/lib/python3.10/site-packages/sklearn/model_selection/_search.py:822\u001b[0m, in \u001b[0;36mBaseSearchCV.fit.<locals>.evaluate_candidates\u001b[0;34m(candidate_params, cv, more_results)\u001b[0m\n\u001b[1;32m    814\u001b[0m \u001b[39mif\u001b[39;00m \u001b[39mself\u001b[39m\u001b[39m.\u001b[39mverbose \u001b[39m>\u001b[39m \u001b[39m0\u001b[39m:\n\u001b[1;32m    815\u001b[0m     \u001b[39mprint\u001b[39m(\n\u001b[1;32m    816\u001b[0m         \u001b[39m\"\u001b[39m\u001b[39mFitting \u001b[39m\u001b[39m{0}\u001b[39;00m\u001b[39m folds for each of \u001b[39m\u001b[39m{1}\u001b[39;00m\u001b[39m candidates,\u001b[39m\u001b[39m\"\u001b[39m\n\u001b[1;32m    817\u001b[0m         \u001b[39m\"\u001b[39m\u001b[39m totalling \u001b[39m\u001b[39m{2}\u001b[39;00m\u001b[39m fits\u001b[39m\u001b[39m\"\u001b[39m\u001b[39m.\u001b[39mformat(\n\u001b[1;32m    818\u001b[0m             n_splits, n_candidates, n_candidates \u001b[39m*\u001b[39m n_splits\n\u001b[1;32m    819\u001b[0m         )\n\u001b[1;32m    820\u001b[0m     )\n\u001b[0;32m--> 822\u001b[0m out \u001b[39m=\u001b[39m parallel(\n\u001b[1;32m    823\u001b[0m     delayed(_fit_and_score)(\n\u001b[1;32m    824\u001b[0m         clone(base_estimator),\n\u001b[1;32m    825\u001b[0m         X,\n\u001b[1;32m    826\u001b[0m         y,\n\u001b[1;32m    827\u001b[0m         train\u001b[39m=\u001b[39;49mtrain,\n\u001b[1;32m    828\u001b[0m         test\u001b[39m=\u001b[39;49mtest,\n\u001b[1;32m    829\u001b[0m         parameters\u001b[39m=\u001b[39;49mparameters,\n\u001b[1;32m    830\u001b[0m         split_progress\u001b[39m=\u001b[39;49m(split_idx, n_splits),\n\u001b[1;32m    831\u001b[0m         candidate_progress\u001b[39m=\u001b[39;49m(cand_idx, n_candidates),\n\u001b[1;32m    832\u001b[0m         \u001b[39m*\u001b[39;49m\u001b[39m*\u001b[39;49mfit_and_score_kwargs,\n\u001b[1;32m    833\u001b[0m     )\n\u001b[1;32m    834\u001b[0m     \u001b[39mfor\u001b[39;49;00m (cand_idx, parameters), (split_idx, (train, test)) \u001b[39min\u001b[39;49;00m product(\n\u001b[1;32m    835\u001b[0m         \u001b[39menumerate\u001b[39;49m(candidate_params), \u001b[39menumerate\u001b[39;49m(cv\u001b[39m.\u001b[39;49msplit(X, y, groups))\n\u001b[1;32m    836\u001b[0m     )\n\u001b[1;32m    837\u001b[0m )\n\u001b[1;32m    839\u001b[0m \u001b[39mif\u001b[39;00m \u001b[39mlen\u001b[39m(out) \u001b[39m<\u001b[39m \u001b[39m1\u001b[39m:\n\u001b[1;32m    840\u001b[0m     \u001b[39mraise\u001b[39;00m \u001b[39mValueError\u001b[39;00m(\n\u001b[1;32m    841\u001b[0m         \u001b[39m\"\u001b[39m\u001b[39mNo fits were performed. \u001b[39m\u001b[39m\"\u001b[39m\n\u001b[1;32m    842\u001b[0m         \u001b[39m\"\u001b[39m\u001b[39mWas the CV iterator empty? \u001b[39m\u001b[39m\"\u001b[39m\n\u001b[1;32m    843\u001b[0m         \u001b[39m\"\u001b[39m\u001b[39mWere there no candidates?\u001b[39m\u001b[39m\"\u001b[39m\n\u001b[1;32m    844\u001b[0m     )\n",
      "File \u001b[0;32m~/.local/lib/python3.10/site-packages/joblib/parallel.py:1088\u001b[0m, in \u001b[0;36mParallel.__call__\u001b[0;34m(self, iterable)\u001b[0m\n\u001b[1;32m   1085\u001b[0m \u001b[39mif\u001b[39;00m \u001b[39mself\u001b[39m\u001b[39m.\u001b[39mdispatch_one_batch(iterator):\n\u001b[1;32m   1086\u001b[0m     \u001b[39mself\u001b[39m\u001b[39m.\u001b[39m_iterating \u001b[39m=\u001b[39m \u001b[39mself\u001b[39m\u001b[39m.\u001b[39m_original_iterator \u001b[39mis\u001b[39;00m \u001b[39mnot\u001b[39;00m \u001b[39mNone\u001b[39;00m\n\u001b[0;32m-> 1088\u001b[0m \u001b[39mwhile\u001b[39;00m \u001b[39mself\u001b[39;49m\u001b[39m.\u001b[39;49mdispatch_one_batch(iterator):\n\u001b[1;32m   1089\u001b[0m     \u001b[39mpass\u001b[39;00m\n\u001b[1;32m   1091\u001b[0m \u001b[39mif\u001b[39;00m pre_dispatch \u001b[39m==\u001b[39m \u001b[39m\"\u001b[39m\u001b[39mall\u001b[39m\u001b[39m\"\u001b[39m \u001b[39mor\u001b[39;00m n_jobs \u001b[39m==\u001b[39m \u001b[39m1\u001b[39m:\n\u001b[1;32m   1092\u001b[0m     \u001b[39m# The iterable was consumed all at once by the above for loop.\u001b[39;00m\n\u001b[1;32m   1093\u001b[0m     \u001b[39m# No need to wait for async callbacks to trigger to\u001b[39;00m\n\u001b[1;32m   1094\u001b[0m     \u001b[39m# consumption.\u001b[39;00m\n",
      "File \u001b[0;32m~/.local/lib/python3.10/site-packages/joblib/parallel.py:901\u001b[0m, in \u001b[0;36mParallel.dispatch_one_batch\u001b[0;34m(self, iterator)\u001b[0m\n\u001b[1;32m    899\u001b[0m     \u001b[39mreturn\u001b[39;00m \u001b[39mFalse\u001b[39;00m\n\u001b[1;32m    900\u001b[0m \u001b[39melse\u001b[39;00m:\n\u001b[0;32m--> 901\u001b[0m     \u001b[39mself\u001b[39;49m\u001b[39m.\u001b[39;49m_dispatch(tasks)\n\u001b[1;32m    902\u001b[0m     \u001b[39mreturn\u001b[39;00m \u001b[39mTrue\u001b[39;00m\n",
      "File \u001b[0;32m~/.local/lib/python3.10/site-packages/joblib/parallel.py:819\u001b[0m, in \u001b[0;36mParallel._dispatch\u001b[0;34m(self, batch)\u001b[0m\n\u001b[1;32m    817\u001b[0m \u001b[39mwith\u001b[39;00m \u001b[39mself\u001b[39m\u001b[39m.\u001b[39m_lock:\n\u001b[1;32m    818\u001b[0m     job_idx \u001b[39m=\u001b[39m \u001b[39mlen\u001b[39m(\u001b[39mself\u001b[39m\u001b[39m.\u001b[39m_jobs)\n\u001b[0;32m--> 819\u001b[0m     job \u001b[39m=\u001b[39m \u001b[39mself\u001b[39;49m\u001b[39m.\u001b[39;49m_backend\u001b[39m.\u001b[39;49mapply_async(batch, callback\u001b[39m=\u001b[39;49mcb)\n\u001b[1;32m    820\u001b[0m     \u001b[39m# A job can complete so quickly than its callback is\u001b[39;00m\n\u001b[1;32m    821\u001b[0m     \u001b[39m# called before we get here, causing self._jobs to\u001b[39;00m\n\u001b[1;32m    822\u001b[0m     \u001b[39m# grow. To ensure correct results ordering, .insert is\u001b[39;00m\n\u001b[1;32m    823\u001b[0m     \u001b[39m# used (rather than .append) in the following line\u001b[39;00m\n\u001b[1;32m    824\u001b[0m     \u001b[39mself\u001b[39m\u001b[39m.\u001b[39m_jobs\u001b[39m.\u001b[39minsert(job_idx, job)\n",
      "File \u001b[0;32m~/.local/lib/python3.10/site-packages/joblib/_parallel_backends.py:208\u001b[0m, in \u001b[0;36mSequentialBackend.apply_async\u001b[0;34m(self, func, callback)\u001b[0m\n\u001b[1;32m    206\u001b[0m \u001b[39mdef\u001b[39;00m \u001b[39mapply_async\u001b[39m(\u001b[39mself\u001b[39m, func, callback\u001b[39m=\u001b[39m\u001b[39mNone\u001b[39;00m):\n\u001b[1;32m    207\u001b[0m     \u001b[39m\"\"\"Schedule a func to be run\"\"\"\u001b[39;00m\n\u001b[0;32m--> 208\u001b[0m     result \u001b[39m=\u001b[39m ImmediateResult(func)\n\u001b[1;32m    209\u001b[0m     \u001b[39mif\u001b[39;00m callback:\n\u001b[1;32m    210\u001b[0m         callback(result)\n",
      "File \u001b[0;32m~/.local/lib/python3.10/site-packages/joblib/_parallel_backends.py:597\u001b[0m, in \u001b[0;36mImmediateResult.__init__\u001b[0;34m(self, batch)\u001b[0m\n\u001b[1;32m    594\u001b[0m \u001b[39mdef\u001b[39;00m \u001b[39m__init__\u001b[39m(\u001b[39mself\u001b[39m, batch):\n\u001b[1;32m    595\u001b[0m     \u001b[39m# Don't delay the application, to avoid keeping the input\u001b[39;00m\n\u001b[1;32m    596\u001b[0m     \u001b[39m# arguments in memory\u001b[39;00m\n\u001b[0;32m--> 597\u001b[0m     \u001b[39mself\u001b[39m\u001b[39m.\u001b[39mresults \u001b[39m=\u001b[39m batch()\n",
      "File \u001b[0;32m~/.local/lib/python3.10/site-packages/joblib/parallel.py:288\u001b[0m, in \u001b[0;36mBatchedCalls.__call__\u001b[0;34m(self)\u001b[0m\n\u001b[1;32m    284\u001b[0m \u001b[39mdef\u001b[39;00m \u001b[39m__call__\u001b[39m(\u001b[39mself\u001b[39m):\n\u001b[1;32m    285\u001b[0m     \u001b[39m# Set the default nested backend to self._backend but do not set the\u001b[39;00m\n\u001b[1;32m    286\u001b[0m     \u001b[39m# change the default number of processes to -1\u001b[39;00m\n\u001b[1;32m    287\u001b[0m     \u001b[39mwith\u001b[39;00m parallel_backend(\u001b[39mself\u001b[39m\u001b[39m.\u001b[39m_backend, n_jobs\u001b[39m=\u001b[39m\u001b[39mself\u001b[39m\u001b[39m.\u001b[39m_n_jobs):\n\u001b[0;32m--> 288\u001b[0m         \u001b[39mreturn\u001b[39;00m [func(\u001b[39m*\u001b[39margs, \u001b[39m*\u001b[39m\u001b[39m*\u001b[39mkwargs)\n\u001b[1;32m    289\u001b[0m                 \u001b[39mfor\u001b[39;00m func, args, kwargs \u001b[39min\u001b[39;00m \u001b[39mself\u001b[39m\u001b[39m.\u001b[39mitems]\n",
      "File \u001b[0;32m~/.local/lib/python3.10/site-packages/joblib/parallel.py:288\u001b[0m, in \u001b[0;36m<listcomp>\u001b[0;34m(.0)\u001b[0m\n\u001b[1;32m    284\u001b[0m \u001b[39mdef\u001b[39;00m \u001b[39m__call__\u001b[39m(\u001b[39mself\u001b[39m):\n\u001b[1;32m    285\u001b[0m     \u001b[39m# Set the default nested backend to self._backend but do not set the\u001b[39;00m\n\u001b[1;32m    286\u001b[0m     \u001b[39m# change the default number of processes to -1\u001b[39;00m\n\u001b[1;32m    287\u001b[0m     \u001b[39mwith\u001b[39;00m parallel_backend(\u001b[39mself\u001b[39m\u001b[39m.\u001b[39m_backend, n_jobs\u001b[39m=\u001b[39m\u001b[39mself\u001b[39m\u001b[39m.\u001b[39m_n_jobs):\n\u001b[0;32m--> 288\u001b[0m         \u001b[39mreturn\u001b[39;00m [func(\u001b[39m*\u001b[39;49margs, \u001b[39m*\u001b[39;49m\u001b[39m*\u001b[39;49mkwargs)\n\u001b[1;32m    289\u001b[0m                 \u001b[39mfor\u001b[39;00m func, args, kwargs \u001b[39min\u001b[39;00m \u001b[39mself\u001b[39m\u001b[39m.\u001b[39mitems]\n",
      "File \u001b[0;32m~/.local/lib/python3.10/site-packages/sklearn/utils/fixes.py:117\u001b[0m, in \u001b[0;36m_FuncWrapper.__call__\u001b[0;34m(self, *args, **kwargs)\u001b[0m\n\u001b[1;32m    115\u001b[0m \u001b[39mdef\u001b[39;00m \u001b[39m__call__\u001b[39m(\u001b[39mself\u001b[39m, \u001b[39m*\u001b[39margs, \u001b[39m*\u001b[39m\u001b[39m*\u001b[39mkwargs):\n\u001b[1;32m    116\u001b[0m     \u001b[39mwith\u001b[39;00m config_context(\u001b[39m*\u001b[39m\u001b[39m*\u001b[39m\u001b[39mself\u001b[39m\u001b[39m.\u001b[39mconfig):\n\u001b[0;32m--> 117\u001b[0m         \u001b[39mreturn\u001b[39;00m \u001b[39mself\u001b[39;49m\u001b[39m.\u001b[39;49mfunction(\u001b[39m*\u001b[39;49margs, \u001b[39m*\u001b[39;49m\u001b[39m*\u001b[39;49mkwargs)\n",
      "File \u001b[0;32m~/.local/lib/python3.10/site-packages/sklearn/model_selection/_validation.py:686\u001b[0m, in \u001b[0;36m_fit_and_score\u001b[0;34m(estimator, X, y, scorer, train, test, verbose, parameters, fit_params, return_train_score, return_parameters, return_n_test_samples, return_times, return_estimator, split_progress, candidate_progress, error_score)\u001b[0m\n\u001b[1;32m    684\u001b[0m         estimator\u001b[39m.\u001b[39mfit(X_train, \u001b[39m*\u001b[39m\u001b[39m*\u001b[39mfit_params)\n\u001b[1;32m    685\u001b[0m     \u001b[39melse\u001b[39;00m:\n\u001b[0;32m--> 686\u001b[0m         estimator\u001b[39m.\u001b[39;49mfit(X_train, y_train, \u001b[39m*\u001b[39;49m\u001b[39m*\u001b[39;49mfit_params)\n\u001b[1;32m    688\u001b[0m \u001b[39mexcept\u001b[39;00m \u001b[39mException\u001b[39;00m:\n\u001b[1;32m    689\u001b[0m     \u001b[39m# Note fit time as time until error\u001b[39;00m\n\u001b[1;32m    690\u001b[0m     fit_time \u001b[39m=\u001b[39m time\u001b[39m.\u001b[39mtime() \u001b[39m-\u001b[39m start_time\n",
      "File \u001b[0;32m~/.local/lib/python3.10/site-packages/sklearn/svm/_classes.py:518\u001b[0m, in \u001b[0;36mLinearSVR.fit\u001b[0;34m(self, X, y, sample_weight)\u001b[0m\n\u001b[1;32m    509\u001b[0m X, y \u001b[39m=\u001b[39m \u001b[39mself\u001b[39m\u001b[39m.\u001b[39m_validate_data(\n\u001b[1;32m    510\u001b[0m     X,\n\u001b[1;32m    511\u001b[0m     y,\n\u001b[0;32m   (...)\u001b[0m\n\u001b[1;32m    515\u001b[0m     accept_large_sparse\u001b[39m=\u001b[39m\u001b[39mFalse\u001b[39;00m,\n\u001b[1;32m    516\u001b[0m )\n\u001b[1;32m    517\u001b[0m penalty \u001b[39m=\u001b[39m \u001b[39m\"\u001b[39m\u001b[39ml2\u001b[39m\u001b[39m\"\u001b[39m  \u001b[39m# SVR only accepts l2 penalty\u001b[39;00m\n\u001b[0;32m--> 518\u001b[0m \u001b[39mself\u001b[39m\u001b[39m.\u001b[39mcoef_, \u001b[39mself\u001b[39m\u001b[39m.\u001b[39mintercept_, n_iter_ \u001b[39m=\u001b[39m _fit_liblinear(\n\u001b[1;32m    519\u001b[0m     X,\n\u001b[1;32m    520\u001b[0m     y,\n\u001b[1;32m    521\u001b[0m     \u001b[39mself\u001b[39;49m\u001b[39m.\u001b[39;49mC,\n\u001b[1;32m    522\u001b[0m     \u001b[39mself\u001b[39;49m\u001b[39m.\u001b[39;49mfit_intercept,\n\u001b[1;32m    523\u001b[0m     \u001b[39mself\u001b[39;49m\u001b[39m.\u001b[39;49mintercept_scaling,\n\u001b[1;32m    524\u001b[0m     \u001b[39mNone\u001b[39;49;00m,\n\u001b[1;32m    525\u001b[0m     penalty,\n\u001b[1;32m    526\u001b[0m     \u001b[39mself\u001b[39;49m\u001b[39m.\u001b[39;49mdual,\n\u001b[1;32m    527\u001b[0m     \u001b[39mself\u001b[39;49m\u001b[39m.\u001b[39;49mverbose,\n\u001b[1;32m    528\u001b[0m     \u001b[39mself\u001b[39;49m\u001b[39m.\u001b[39;49mmax_iter,\n\u001b[1;32m    529\u001b[0m     \u001b[39mself\u001b[39;49m\u001b[39m.\u001b[39;49mtol,\n\u001b[1;32m    530\u001b[0m     \u001b[39mself\u001b[39;49m\u001b[39m.\u001b[39;49mrandom_state,\n\u001b[1;32m    531\u001b[0m     loss\u001b[39m=\u001b[39;49m\u001b[39mself\u001b[39;49m\u001b[39m.\u001b[39;49mloss,\n\u001b[1;32m    532\u001b[0m     epsilon\u001b[39m=\u001b[39;49m\u001b[39mself\u001b[39;49m\u001b[39m.\u001b[39;49mepsilon,\n\u001b[1;32m    533\u001b[0m     sample_weight\u001b[39m=\u001b[39;49msample_weight,\n\u001b[1;32m    534\u001b[0m )\n\u001b[1;32m    535\u001b[0m \u001b[39mself\u001b[39m\u001b[39m.\u001b[39mcoef_ \u001b[39m=\u001b[39m \u001b[39mself\u001b[39m\u001b[39m.\u001b[39mcoef_\u001b[39m.\u001b[39mravel()\n\u001b[1;32m    536\u001b[0m \u001b[39m# Backward compatibility: _fit_liblinear is used both by LinearSVC/R\u001b[39;00m\n\u001b[1;32m    537\u001b[0m \u001b[39m# and LogisticRegression but LogisticRegression sets a structured\u001b[39;00m\n\u001b[1;32m    538\u001b[0m \u001b[39m# `n_iter_` attribute with information about the underlying OvR fits\u001b[39;00m\n\u001b[1;32m    539\u001b[0m \u001b[39m# while LinearSVC/R only reports the maximum value.\u001b[39;00m\n",
      "File \u001b[0;32m~/.local/lib/python3.10/site-packages/sklearn/svm/_base.py:1224\u001b[0m, in \u001b[0;36m_fit_liblinear\u001b[0;34m(X, y, C, fit_intercept, intercept_scaling, class_weight, penalty, dual, verbose, max_iter, tol, random_state, multi_class, loss, epsilon, sample_weight)\u001b[0m\n\u001b[1;32m   1221\u001b[0m sample_weight \u001b[39m=\u001b[39m _check_sample_weight(sample_weight, X, dtype\u001b[39m=\u001b[39mnp\u001b[39m.\u001b[39mfloat64)\n\u001b[1;32m   1223\u001b[0m solver_type \u001b[39m=\u001b[39m _get_liblinear_solver_type(multi_class, penalty, loss, dual)\n\u001b[0;32m-> 1224\u001b[0m raw_coef_, n_iter_ \u001b[39m=\u001b[39m liblinear\u001b[39m.\u001b[39;49mtrain_wrap(\n\u001b[1;32m   1225\u001b[0m     X,\n\u001b[1;32m   1226\u001b[0m     y_ind,\n\u001b[1;32m   1227\u001b[0m     sp\u001b[39m.\u001b[39;49misspmatrix(X),\n\u001b[1;32m   1228\u001b[0m     solver_type,\n\u001b[1;32m   1229\u001b[0m     tol,\n\u001b[1;32m   1230\u001b[0m     bias,\n\u001b[1;32m   1231\u001b[0m     C,\n\u001b[1;32m   1232\u001b[0m     class_weight_,\n\u001b[1;32m   1233\u001b[0m     max_iter,\n\u001b[1;32m   1234\u001b[0m     rnd\u001b[39m.\u001b[39;49mrandint(np\u001b[39m.\u001b[39;49miinfo(\u001b[39m\"\u001b[39;49m\u001b[39mi\u001b[39;49m\u001b[39m\"\u001b[39;49m)\u001b[39m.\u001b[39;49mmax),\n\u001b[1;32m   1235\u001b[0m     epsilon,\n\u001b[1;32m   1236\u001b[0m     sample_weight,\n\u001b[1;32m   1237\u001b[0m )\n\u001b[1;32m   1238\u001b[0m \u001b[39m# Regarding rnd.randint(..) in the above signature:\u001b[39;00m\n\u001b[1;32m   1239\u001b[0m \u001b[39m# seed for srand in range [0..INT_MAX); due to limitations in Numpy\u001b[39;00m\n\u001b[1;32m   1240\u001b[0m \u001b[39m# on 32-bit platforms, we can't get to the UINT_MAX limit that\u001b[39;00m\n\u001b[1;32m   1241\u001b[0m \u001b[39m# srand supports\u001b[39;00m\n\u001b[1;32m   1242\u001b[0m n_iter_max \u001b[39m=\u001b[39m \u001b[39mmax\u001b[39m(n_iter_)\n",
      "\u001b[0;31mKeyboardInterrupt\u001b[0m: "
     ]
    }
   ],
   "source": [
    "svm_params = {\"epsilon\": [0,0.1,0.5,1,2,5,10], \"tol\": [0.0001, 0.001, 0.01, 0.1, 1, 0.00001], \"C\": [0.1,0.2,0.5,1,2,5,10]}\n",
    "svm = LinearSVR()\n",
    "svm_grid = GridSearchCV(svm, svm_params, scoring=\"neg_mean_absolute_error\")\n",
    "\n",
    "svm_grid.fit(samples[0], samples[1])"
   ]
  },
  {
   "cell_type": "code",
   "execution_count": 78,
   "metadata": {},
   "outputs": [
    {
     "name": "stderr",
     "output_type": "stream",
     "text": [
      "/home/florian/.local/lib/python3.10/site-packages/sklearn/svm/_base.py:1244: ConvergenceWarning: Liblinear failed to converge, increase the number of iterations.\n",
      "  warnings.warn(\n"
     ]
    }
   ],
   "source": [
    "svm = LinearSVR(max_iter=10000).fit(samples[0], samples[1])"
   ]
  },
  {
   "cell_type": "code",
   "execution_count": 77,
   "metadata": {},
   "outputs": [
    {
     "name": "stdout",
     "output_type": "stream",
     "text": [
      "Epoch 1/5\n",
      "3125/3125 [==============================] - 4s 1ms/step - loss: 0.3116\n",
      "Epoch 2/5\n",
      "3125/3125 [==============================] - 4s 1ms/step - loss: 0.2929\n",
      "Epoch 3/5\n",
      "3125/3125 [==============================] - 4s 1ms/step - loss: 0.2893\n",
      "Epoch 4/5\n",
      "3125/3125 [==============================] - 3s 1ms/step - loss: 0.2874\n",
      "Epoch 5/5\n",
      "3125/3125 [==============================] - 3s 1ms/step - loss: 0.2874\n"
     ]
    }
   ],
   "source": [
    "import tensorflow as tf\n",
    "\n",
    "model = tf.keras.Sequential()\n",
    "\n",
    "model.add(tf.keras.layers.Dense(16, input_shape=(10,)))\n",
    "model.add(tf.keras.layers.Dense(32, activation=\"relu\"))\n",
    "model.add(tf.keras.layers.Dense(1, activation=\"linear\"))\n",
    "\n",
    "model.compile(optimizer=\"adam\", loss=\"mae\")\n",
    "hist = model.fit(samples[0], samples[1], batch_size=32, epochs=5)"
   ]
  },
  {
   "cell_type": "code",
   "execution_count": 14,
   "metadata": {},
   "outputs": [
    {
     "data": {
      "text/plain": [
       "{'C': 0.2, 'epsilon': 0.1, 'tol': 1e-05}"
      ]
     },
     "execution_count": 14,
     "metadata": {},
     "output_type": "execute_result"
    }
   ],
   "source": [
    "svm_grid.best_params_"
   ]
  },
  {
   "attachments": {},
   "cell_type": "markdown",
   "metadata": {},
   "source": [
    "## Multi-Layer Perceptron"
   ]
  },
  {
   "cell_type": "code",
   "execution_count": 15,
   "metadata": {},
   "outputs": [],
   "source": [
    "import keras_tuner as kt\n",
    "import tensorflow as tf"
   ]
  },
  {
   "cell_type": "code",
   "execution_count": 16,
   "metadata": {},
   "outputs": [
    {
     "name": "stdout",
     "output_type": "stream",
     "text": [
      "Trial 30 Complete [00h 00m 27s]\n",
      "mean_absolute_error: 0.5396388173103333\n",
      "\n",
      "Best mean_absolute_error So Far: 0.5375256538391113\n",
      "Total elapsed time: 00h 03m 34s\n",
      "INFO:tensorflow:Oracle triggered exit\n",
      "Results summary\n",
      "Results in ./keras_tuner/weather/weather_mlp_params\n",
      "Showing 10 best trials\n",
      "<keras_tuner.engine.objective.Objective object at 0x7f9e745b7b50>\n",
      "Trial summary\n",
      "Hyperparameters:\n",
      "number of layers: 6\n",
      "layer_0: 192\n",
      "learning_rate: 0.0001\n",
      "layer_1: 184\n",
      "layer_2: 72\n",
      "layer_3: 496\n",
      "layer_4: 16\n",
      "layer_5: 368\n",
      "tuner/epochs: 10\n",
      "tuner/initial_epoch: 4\n",
      "tuner/bracket: 1\n",
      "tuner/round: 1\n",
      "tuner/trial_id: 0022\n",
      "Score: 0.5375256538391113\n",
      "Trial summary\n",
      "Hyperparameters:\n",
      "number of layers: 6\n",
      "layer_0: 136\n",
      "learning_rate: 0.0001\n",
      "layer_1: 112\n",
      "layer_2: 216\n",
      "layer_3: 104\n",
      "layer_4: 120\n",
      "layer_5: 440\n",
      "tuner/epochs: 10\n",
      "tuner/initial_epoch: 4\n",
      "tuner/bracket: 2\n",
      "tuner/round: 2\n",
      "tuner/trial_id: 0013\n",
      "Score: 0.5382292866706848\n",
      "Trial summary\n",
      "Hyperparameters:\n",
      "number of layers: 4\n",
      "layer_0: 488\n",
      "learning_rate: 0.0001\n",
      "layer_1: 216\n",
      "layer_2: 216\n",
      "layer_3: 464\n",
      "layer_4: 496\n",
      "layer_5: 248\n",
      "tuner/epochs: 4\n",
      "tuner/initial_epoch: 0\n",
      "tuner/bracket: 1\n",
      "tuner/round: 0\n",
      "Score: 0.5391438603401184\n",
      "Trial summary\n",
      "Hyperparameters:\n",
      "number of layers: 6\n",
      "layer_0: 192\n",
      "learning_rate: 0.0001\n",
      "layer_1: 184\n",
      "layer_2: 72\n",
      "layer_3: 496\n",
      "layer_4: 16\n",
      "layer_5: 368\n",
      "tuner/epochs: 4\n",
      "tuner/initial_epoch: 0\n",
      "tuner/bracket: 1\n",
      "tuner/round: 0\n",
      "Score: 0.5393367409706116\n",
      "Trial summary\n",
      "Hyperparameters:\n",
      "number of layers: 5\n",
      "layer_0: 440\n",
      "learning_rate: 0.0001\n",
      "layer_1: 120\n",
      "layer_2: 448\n",
      "layer_3: 200\n",
      "layer_4: 144\n",
      "layer_5: 112\n",
      "tuner/epochs: 4\n",
      "tuner/initial_epoch: 0\n",
      "tuner/bracket: 1\n",
      "tuner/round: 0\n",
      "Score: 0.5394381880760193\n",
      "Trial summary\n",
      "Hyperparameters:\n",
      "number of layers: 5\n",
      "layer_0: 288\n",
      "learning_rate: 0.001\n",
      "layer_1: 400\n",
      "layer_2: 264\n",
      "layer_3: 360\n",
      "layer_4: 440\n",
      "layer_5: 120\n",
      "tuner/epochs: 10\n",
      "tuner/initial_epoch: 0\n",
      "tuner/bracket: 0\n",
      "tuner/round: 0\n",
      "Score: 0.5396388173103333\n",
      "Trial summary\n",
      "Hyperparameters:\n",
      "number of layers: 5\n",
      "layer_0: 464\n",
      "learning_rate: 0.0001\n",
      "layer_1: 496\n",
      "layer_2: 320\n",
      "layer_3: 432\n",
      "layer_4: 160\n",
      "layer_5: 32\n",
      "tuner/epochs: 4\n",
      "tuner/initial_epoch: 0\n",
      "tuner/bracket: 1\n",
      "tuner/round: 0\n",
      "Score: 0.5406121015548706\n",
      "Trial summary\n",
      "Hyperparameters:\n",
      "number of layers: 4\n",
      "layer_0: 216\n",
      "learning_rate: 0.001\n",
      "layer_1: 16\n",
      "layer_2: 384\n",
      "layer_3: 128\n",
      "layer_4: 328\n",
      "tuner/epochs: 10\n",
      "tuner/initial_epoch: 4\n",
      "tuner/bracket: 2\n",
      "tuner/round: 2\n",
      "tuner/trial_id: 0014\n",
      "Score: 0.54078209400177\n",
      "Trial summary\n",
      "Hyperparameters:\n",
      "number of layers: 3\n",
      "layer_0: 96\n",
      "learning_rate: 0.0001\n",
      "layer_1: 88\n",
      "layer_2: 480\n",
      "layer_3: 136\n",
      "layer_4: 40\n",
      "layer_5: 232\n",
      "tuner/epochs: 4\n",
      "tuner/initial_epoch: 0\n",
      "tuner/bracket: 1\n",
      "tuner/round: 0\n",
      "Score: 0.5420666933059692\n",
      "Trial summary\n",
      "Hyperparameters:\n",
      "number of layers: 2\n",
      "layer_0: 288\n",
      "learning_rate: 0.001\n",
      "layer_1: 112\n",
      "layer_2: 464\n",
      "layer_3: 224\n",
      "layer_4: 264\n",
      "tuner/epochs: 2\n",
      "tuner/initial_epoch: 0\n",
      "tuner/bracket: 2\n",
      "tuner/round: 0\n",
      "Score: 0.5442414879798889\n"
     ]
    }
   ],
   "source": [
    "#build a sequential model\n",
    "def build_model(hp):\n",
    "    input_shape = np.array(samples[0]).shape[1]\n",
    "    model = tf.keras.Sequential()\n",
    "    model.add(tf.keras.layers.Input(shape=(input_shape,)))\n",
    "\n",
    "    #add dense layers to the model\n",
    "    for i in range(hp.Int('number of layers', min_value=1, max_value=6)):\n",
    "        neurons = hp.Int('layer_' + str(i), min_value=8, max_value=512, step=8)\n",
    "        model.add(tf.keras.layers.Dense(neurons, activation=\"relu\"))\n",
    "    model.add(tf.keras.layers.Dense(1, activation=\"relu\"))\n",
    "\n",
    "    hp_learning_rate = hp.Choice(\"learning_rate\", values=[0.1, 0.01, 0.001, 0.0001])\n",
    "\n",
    "    model.compile(optimizer=tf.keras.optimizers.Adam(learning_rate=hp_learning_rate),\n",
    "        loss=tf.keras.losses.MeanAbsoluteError(),\n",
    "        metrics=[\"mean_absolute_error\"])\n",
    "\n",
    "    return model\n",
    "\n",
    "\n",
    "tuner = kt.Hyperband(build_model,\n",
    "                     objective=\"mean_absolute_error\",\n",
    "                     max_epochs=10,\n",
    "                     factor=3,\n",
    "                     directory= \"./keras_tuner/weather/\",\n",
    "                     project_name= \"weather_mlp_params\")\n",
    "\n",
    "stop_early = tf.keras.callbacks.EarlyStopping(monitor= \"val_loss\", patience=5)\n",
    "\n",
    "tuner.search(np.array(samples[0]), np.array(samples[1]), validation_split=0.2, epochs=50, callbacks=[stop_early, tf.keras.callbacks.TensorBoard(\"./keras_tuner/covid/covid_tb_logs\")])\n",
    "\n",
    "tuner.results_summary()"
   ]
  },
  {
   "cell_type": "code",
   "execution_count": 17,
   "metadata": {},
   "outputs": [
    {
     "name": "stdout",
     "output_type": "stream",
     "text": [
      "Model: \"sequential\"\n",
      "_________________________________________________________________\n",
      " Layer (type)                Output Shape              Param #   \n",
      "=================================================================\n",
      " dense (Dense)               (None, 192)               5952      \n",
      "                                                                 \n",
      " dense_1 (Dense)             (None, 184)               35512     \n",
      "                                                                 \n",
      " dense_2 (Dense)             (None, 72)                13320     \n",
      "                                                                 \n",
      " dense_3 (Dense)             (None, 496)               36208     \n",
      "                                                                 \n",
      " dense_4 (Dense)             (None, 16)                7952      \n",
      "                                                                 \n",
      " dense_5 (Dense)             (None, 368)               6256      \n",
      "                                                                 \n",
      " dense_6 (Dense)             (None, 1)                 369       \n",
      "                                                                 \n",
      "=================================================================\n",
      "Total params: 105,569\n",
      "Trainable params: 105,569\n",
      "Non-trainable params: 0\n",
      "_________________________________________________________________\n"
     ]
    }
   ],
   "source": [
    "best_model = tuner.get_best_models()[0]\n",
    "best_model.summary()"
   ]
  },
  {
   "attachments": {},
   "cell_type": "markdown",
   "metadata": {},
   "source": [
    "## Baseline Models"
   ]
  },
  {
   "cell_type": "code",
   "execution_count": 18,
   "metadata": {},
   "outputs": [],
   "source": [
    "from sklearn.model_selection import train_test_split\n",
    "from sklearn.metrics import mean_squared_error, mean_absolute_error, r2_score"
   ]
  },
  {
   "cell_type": "code",
   "execution_count": 19,
   "metadata": {},
   "outputs": [],
   "source": [
    "X_train, X_test, y_train, y_test = train_test_split(samples[0], samples[1], test_size=0.3)"
   ]
  },
  {
   "cell_type": "code",
   "execution_count": 20,
   "metadata": {},
   "outputs": [],
   "source": [
    "baseline_lm = LinearRegression(**lm_grid.best_params_)\n",
    "baseline_lm.fit(X_train, y_train)\n",
    "\n",
    "baseline_lm_MAE = mean_absolute_error(y_test, baseline_lm.predict(X_test))\n",
    "baseline_lm_MSE = mean_squared_error(y_test, baseline_lm.predict(X_test))\n",
    "baseline_lm_R2 = r2_score(y_test, baseline_lm.predict(X_test))"
   ]
  },
  {
   "cell_type": "code",
   "execution_count": 21,
   "metadata": {},
   "outputs": [
    {
     "name": "stderr",
     "output_type": "stream",
     "text": [
      "/home/florian/.local/lib/python3.10/site-packages/sklearn/svm/_base.py:1244: ConvergenceWarning: Liblinear failed to converge, increase the number of iterations.\n",
      "  warnings.warn(\n"
     ]
    }
   ],
   "source": [
    "baseline_svm = LinearSVR(**svm_grid.best_params_)\n",
    "baseline_svm.fit(X_train, y_train)\n",
    "\n",
    "baseline_svm_MAE = mean_absolute_error(y_test, baseline_svm.predict(X_test))\n",
    "baseline_svm_MSE = mean_squared_error(y_test, baseline_svm.predict(X_test))\n",
    "baseline_svm_r2 = r2_score(y_test, baseline_svm.predict(X_test))"
   ]
  },
  {
   "cell_type": "code",
   "execution_count": 23,
   "metadata": {},
   "outputs": [
    {
     "name": "stdout",
     "output_type": "stream",
     "text": [
      "Epoch 1/100\n",
      "356/356 [==============================] - 2s 3ms/step - loss: 0.2553 - mean_absolute_error: 0.2553 - mean_squared_error: 0.1202\n",
      "Epoch 2/100\n",
      "356/356 [==============================] - 1s 3ms/step - loss: 0.2187 - mean_absolute_error: 0.2187 - mean_squared_error: 0.0795\n",
      "Epoch 3/100\n",
      "356/356 [==============================] - 1s 2ms/step - loss: 0.2179 - mean_absolute_error: 0.2179 - mean_squared_error: 0.0790\n",
      "Epoch 4/100\n",
      "356/356 [==============================] - 1s 3ms/step - loss: 0.2157 - mean_absolute_error: 0.2157 - mean_squared_error: 0.0778\n",
      "Epoch 5/100\n",
      "356/356 [==============================] - 1s 2ms/step - loss: 0.2173 - mean_absolute_error: 0.2173 - mean_squared_error: 0.0784\n",
      "Epoch 6/100\n",
      "356/356 [==============================] - 1s 2ms/step - loss: 0.2162 - mean_absolute_error: 0.2162 - mean_squared_error: 0.0775\n",
      "Epoch 7/100\n",
      "356/356 [==============================] - 1s 2ms/step - loss: 0.2145 - mean_absolute_error: 0.2145 - mean_squared_error: 0.0769\n",
      "Epoch 8/100\n",
      "356/356 [==============================] - 1s 3ms/step - loss: 0.2135 - mean_absolute_error: 0.2135 - mean_squared_error: 0.0761\n",
      "Epoch 9/100\n",
      "356/356 [==============================] - 1s 3ms/step - loss: 0.2137 - mean_absolute_error: 0.2137 - mean_squared_error: 0.0764\n",
      "Epoch 10/100\n",
      "356/356 [==============================] - 1s 2ms/step - loss: 0.2126 - mean_absolute_error: 0.2126 - mean_squared_error: 0.0755\n",
      "Epoch 11/100\n",
      "356/356 [==============================] - 1s 2ms/step - loss: 0.2125 - mean_absolute_error: 0.2125 - mean_squared_error: 0.0758\n",
      "Epoch 12/100\n",
      "356/356 [==============================] - 1s 2ms/step - loss: 0.2119 - mean_absolute_error: 0.2119 - mean_squared_error: 0.0754\n",
      "Epoch 13/100\n",
      "356/356 [==============================] - 1s 2ms/step - loss: 0.2114 - mean_absolute_error: 0.2114 - mean_squared_error: 0.0752\n",
      "Epoch 14/100\n",
      "356/356 [==============================] - 1s 2ms/step - loss: 0.2113 - mean_absolute_error: 0.2113 - mean_squared_error: 0.0747\n",
      "Epoch 15/100\n",
      "356/356 [==============================] - 1s 2ms/step - loss: 0.2118 - mean_absolute_error: 0.2118 - mean_squared_error: 0.0754\n",
      "Epoch 16/100\n",
      "356/356 [==============================] - 1s 2ms/step - loss: 0.2126 - mean_absolute_error: 0.2126 - mean_squared_error: 0.0758\n",
      "Epoch 17/100\n",
      "356/356 [==============================] - 1s 2ms/step - loss: 0.2105 - mean_absolute_error: 0.2105 - mean_squared_error: 0.0749\n",
      "Epoch 18/100\n",
      "356/356 [==============================] - 1s 3ms/step - loss: 0.2120 - mean_absolute_error: 0.2120 - mean_squared_error: 0.0754\n",
      "Epoch 19/100\n",
      "356/356 [==============================] - 1s 3ms/step - loss: 0.2119 - mean_absolute_error: 0.2119 - mean_squared_error: 0.0753\n",
      "Epoch 20/100\n",
      "356/356 [==============================] - 1s 2ms/step - loss: 0.2104 - mean_absolute_error: 0.2104 - mean_squared_error: 0.0746\n",
      "Epoch 21/100\n",
      "356/356 [==============================] - 1s 2ms/step - loss: 0.2108 - mean_absolute_error: 0.2108 - mean_squared_error: 0.0747\n",
      "Epoch 22/100\n",
      "356/356 [==============================] - 1s 2ms/step - loss: 0.2102 - mean_absolute_error: 0.2102 - mean_squared_error: 0.0745\n",
      "Epoch 23/100\n",
      "356/356 [==============================] - 1s 2ms/step - loss: 0.2110 - mean_absolute_error: 0.2110 - mean_squared_error: 0.0750\n",
      "Epoch 24/100\n",
      "356/356 [==============================] - 1s 2ms/step - loss: 0.2112 - mean_absolute_error: 0.2112 - mean_squared_error: 0.0750\n",
      "Epoch 25/100\n",
      "356/356 [==============================] - 1s 2ms/step - loss: 0.2095 - mean_absolute_error: 0.2095 - mean_squared_error: 0.0740\n",
      "Epoch 26/100\n",
      "356/356 [==============================] - 1s 3ms/step - loss: 0.2098 - mean_absolute_error: 0.2098 - mean_squared_error: 0.0741\n",
      "Epoch 27/100\n",
      "356/356 [==============================] - 1s 3ms/step - loss: 0.2113 - mean_absolute_error: 0.2113 - mean_squared_error: 0.0752\n",
      "Epoch 28/100\n",
      "356/356 [==============================] - 1s 2ms/step - loss: 0.2101 - mean_absolute_error: 0.2101 - mean_squared_error: 0.0744\n",
      "Epoch 29/100\n",
      "356/356 [==============================] - 1s 3ms/step - loss: 0.2098 - mean_absolute_error: 0.2098 - mean_squared_error: 0.0743\n",
      "Epoch 30/100\n",
      "356/356 [==============================] - 1s 2ms/step - loss: 0.2101 - mean_absolute_error: 0.2101 - mean_squared_error: 0.0746\n",
      "153/153 [==============================] - 0s 1ms/step - loss: 0.2155 - mean_absolute_error: 0.2155 - mean_squared_error: 0.0797\n"
     ]
    }
   ],
   "source": [
    "baseline_mlp = tf.keras.Sequential()\n",
    "input_shape = np.array(samples[0]).shape[1]\n",
    "baseline_mlp.add(tf.keras.layers.Input(shape=input_shape))\n",
    "baseline_mlp.add(tf.keras.layers.Dense(192))\n",
    "baseline_mlp.add(tf.keras.layers.Dense(184))\n",
    "baseline_mlp.add(tf.keras.layers.Dense(72))\n",
    "baseline_mlp.add(tf.keras.layers.Dense(496))\n",
    "baseline_mlp.add(tf.keras.layers.Dense(16))\n",
    "baseline_mlp.add(tf.keras.layers.Dense(368))\n",
    "baseline_mlp.add(tf.keras.layers.Dense(1))\n",
    "\n",
    "baseline_mlp.compile(optimizer=tf.keras.optimizers.Adam(learning_rate=0.0001),\n",
    "        loss=tf.keras.losses.MeanAbsoluteError(),\n",
    "        metrics=[\"mean_absolute_error\", \"mean_squared_error\"])\n",
    "\n",
    "stop_early = tf.keras.callbacks.EarlyStopping(monitor= \"loss\", patience=5)\n",
    "\n",
    "baseline_mlp.fit(np.array(X_train), np.array(y_train), epochs=100, callbacks=[stop_early])\n",
    "\n",
    "result = baseline_mlp.evaluate(np.array(X_test), np.array(y_test))\n",
    "baseline_mlp_metrics = dict(zip(baseline_mlp.metrics_names, result))"
   ]
  },
  {
   "cell_type": "code",
   "execution_count": 24,
   "metadata": {},
   "outputs": [
    {
     "name": "stdout",
     "output_type": "stream",
     "text": [
      "\n",
      "Linear Regression \n",
      "\n",
      "MSE: 0.07699060927031325 \n",
      "\n",
      "MAE: 0.2137768840472443 \n",
      "\n",
      "R2: 0.9236213919893526 \n",
      "\n",
      "----------------------\n",
      "\n",
      "Support Vector Machine \n",
      "\n",
      "MSE: 0.07749309052620372 \n",
      "\n",
      "MAE: 0.213065539293761 \n",
      "\n",
      "R2: 0.923122904975935 \n",
      "\n",
      "----------------------\n",
      "\n",
      "Multi-Layer Perceptron \n",
      "\n",
      "Loss: 0.21551470458507538 \n",
      "\n",
      "MSE: 0.07973022758960724 \n",
      "\n",
      "MAE: 0.21551470458507538\n",
      "\n"
     ]
    }
   ],
   "source": [
    "print(f\"\"\"\n",
    "Linear Regression \\n\n",
    "MSE: {baseline_lm_MSE} \\n\n",
    "MAE: {baseline_lm_MAE} \\n\n",
    "R2: {baseline_lm_R2} \\n\n",
    "----------------------\\n\n",
    "Support Vector Machine \\n\n",
    "MSE: {baseline_svm_MSE} \\n\n",
    "MAE: {baseline_svm_MAE} \\n\n",
    "R2: {baseline_svm_r2} \\n\n",
    "----------------------\\n\n",
    "Multi-Layer Perceptron \\n\n",
    "Loss: {baseline_mlp_metrics[\"loss\"]} \\n\n",
    "MSE: {baseline_mlp_metrics[\"mean_squared_error\"]} \\n\n",
    "MAE: {baseline_mlp_metrics[\"mean_absolute_error\"]}\n",
    "\"\"\")"
   ]
  }
 ],
 "metadata": {
  "kernelspec": {
   "display_name": "Python 3",
   "language": "python",
   "name": "python3"
  },
  "language_info": {
   "codemirror_mode": {
    "name": "ipython",
    "version": 3
   },
   "file_extension": ".py",
   "mimetype": "text/x-python",
   "name": "python",
   "nbconvert_exporter": "python",
   "pygments_lexer": "ipython3",
   "version": "3.10.6"
  },
  "orig_nbformat": 4,
  "vscode": {
   "interpreter": {
    "hash": "767d51c1340bd893661ea55ea3124f6de3c7a262a8b4abca0554b478b1e2ff90"
   }
  }
 },
 "nbformat": 4,
 "nbformat_minor": 2
}
