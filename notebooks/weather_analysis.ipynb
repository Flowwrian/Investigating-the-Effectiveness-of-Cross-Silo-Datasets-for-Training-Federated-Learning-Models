{
 "cells": [
  {
   "attachments": {},
   "cell_type": "markdown",
   "metadata": {},
   "source": [
    "# Analysis"
   ]
  },
  {
   "attachments": {},
   "cell_type": "markdown",
   "metadata": {},
   "source": [
    "This notebook analysis the results of the FL experiments, beginning with the first stage results. It will not only contain code and graphics, but also text describing the findings. This is in order to find the proper direction of research and to make writing the thesis chapter more easier afterwards.\n",
    "The first stage analyses a wide range of FL models. The idea is to find similarities and differences between them. Therefore, this part heavily emphasizes on desprictive statistics of the collection of results.\n",
    "The second stage focuses on specific results. The underlying model is more examined and potentential reasons for the unusual performances are considered. "
   ]
  },
  {
   "attachments": {},
   "cell_type": "markdown",
   "metadata": {},
   "source": [
    "## Stage One - A Broad View on the Results "
   ]
  },
  {
   "cell_type": "code",
   "execution_count": 1,
   "metadata": {},
   "outputs": [
    {
     "name": "stderr",
     "output_type": "stream",
     "text": [
      "2023-02-10 12:48:57.960202: I tensorflow/core/platform/cpu_feature_guard.cc:193] This TensorFlow binary is optimized with oneAPI Deep Neural Network Library (oneDNN) to use the following CPU instructions in performance-critical operations:  AVX2 FMA\n",
      "To enable them in other operations, rebuild TensorFlow with the appropriate compiler flags.\n",
      "2023-02-10 12:49:00.352718: W tensorflow/compiler/xla/stream_executor/platform/default/dso_loader.cc:64] Could not load dynamic library 'libnvinfer.so.7'; dlerror: libnvinfer.so.7: cannot open shared object file: No such file or directory\n",
      "2023-02-10 12:49:00.352853: W tensorflow/compiler/xla/stream_executor/platform/default/dso_loader.cc:64] Could not load dynamic library 'libnvinfer_plugin.so.7'; dlerror: libnvinfer_plugin.so.7: cannot open shared object file: No such file or directory\n",
      "2023-02-10 12:49:00.352862: W tensorflow/compiler/tf2tensorrt/utils/py_utils.cc:38] TF-TRT Warning: Cannot dlopen some TensorRT libraries. If you would like to use Nvidia GPU with TensorRT, please make sure the missing libraries mentioned above are installed properly.\n"
     ]
    }
   ],
   "source": [
    "#import libraries\n",
    "import numpy as np\n",
    "import pandas as pd\n",
    "\n",
    "import tensorflow as tf\n",
    "import sklearn as sk\n",
    "\n",
    "import seaborn as sns\n",
    "import matplotlib.pyplot as plt\n",
    "import statsmodels.api as sm"
   ]
  },
  {
   "cell_type": "code",
   "execution_count": 2,
   "metadata": {},
   "outputs": [
    {
     "data": {
      "text/html": [
       "<div>\n",
       "<style scoped>\n",
       "    .dataframe tbody tr th:only-of-type {\n",
       "        vertical-align: middle;\n",
       "    }\n",
       "\n",
       "    .dataframe tbody tr th {\n",
       "        vertical-align: top;\n",
       "    }\n",
       "\n",
       "    .dataframe thead th {\n",
       "        text-align: right;\n",
       "    }\n",
       "</style>\n",
       "<table border=\"1\" class=\"dataframe\">\n",
       "  <thead>\n",
       "    <tr style=\"text-align: right;\">\n",
       "      <th></th>\n",
       "      <th>date</th>\n",
       "      <th>model</th>\n",
       "      <th>dataset</th>\n",
       "      <th>rounds</th>\n",
       "      <th>losses_distributed</th>\n",
       "      <th>time</th>\n",
       "      <th>number_of_clients</th>\n",
       "      <th>entries</th>\n",
       "      <th>number_of_samples</th>\n",
       "      <th>attributes</th>\n",
       "      <th>stations</th>\n",
       "      <th>scenario</th>\n",
       "      <th>percentage_of_testing_data</th>\n",
       "      <th>loss</th>\n",
       "      <th>epochs</th>\n",
       "      <th>hidden_layers</th>\n",
       "    </tr>\n",
       "  </thead>\n",
       "  <tbody>\n",
       "    <tr>\n",
       "      <th>0</th>\n",
       "      <td>1970-01-01</td>\n",
       "      <td>linear regression</td>\n",
       "      <td>weather</td>\n",
       "      <td>2</td>\n",
       "      <td>[[1, 0.2226459577], [2, 0.2234555605]]</td>\n",
       "      <td>[[1, 10576.5143687], [2, 10576.5348202]]</td>\n",
       "      <td>2</td>\n",
       "      <td>10</td>\n",
       "      <td>10000</td>\n",
       "      <td>[temp, rhum, dwpt]</td>\n",
       "      <td>[berlin_alexanderplatz, frankfurt_am_main_west...</td>\n",
       "      <td>separate</td>\n",
       "      <td>0.2</td>\n",
       "      <td>MAE</td>\n",
       "      <td>10</td>\n",
       "      <td>5</td>\n",
       "    </tr>\n",
       "    <tr>\n",
       "      <th>1</th>\n",
       "      <td>1970-01-01</td>\n",
       "      <td>linearSVR</td>\n",
       "      <td>weather</td>\n",
       "      <td>2</td>\n",
       "      <td>[[1, 0.2140126819], [2, 0.21787175820000002]]</td>\n",
       "      <td>[[1, 10586.9262073], [2, 10586.9975151]]</td>\n",
       "      <td>2</td>\n",
       "      <td>10</td>\n",
       "      <td>10000</td>\n",
       "      <td>[temp, rhum, dwpt]</td>\n",
       "      <td>[berlin_alexanderplatz, frankfurt_am_main_west...</td>\n",
       "      <td>separate</td>\n",
       "      <td>0.2</td>\n",
       "      <td>MAE</td>\n",
       "      <td>10</td>\n",
       "      <td>5</td>\n",
       "    </tr>\n",
       "    <tr>\n",
       "      <th>2</th>\n",
       "      <td>1970-01-01</td>\n",
       "      <td>MLP</td>\n",
       "      <td>weather</td>\n",
       "      <td>2</td>\n",
       "      <td>[[1, 0.2242389992], [2, 0.2104952633]]</td>\n",
       "      <td>[[1, 10601.58299], [2, 10604.0674518]]</td>\n",
       "      <td>2</td>\n",
       "      <td>10</td>\n",
       "      <td>10000</td>\n",
       "      <td>[temp, rhum, dwpt]</td>\n",
       "      <td>[berlin_alexanderplatz, frankfurt_am_main_west...</td>\n",
       "      <td>separate</td>\n",
       "      <td>0.2</td>\n",
       "      <td>MAE</td>\n",
       "      <td>2</td>\n",
       "      <td>2</td>\n",
       "    </tr>\n",
       "    <tr>\n",
       "      <th>3</th>\n",
       "      <td>1970-01-01</td>\n",
       "      <td>MLP</td>\n",
       "      <td>weather</td>\n",
       "      <td>2</td>\n",
       "      <td>[[1, 0.21910745650000002], [2, 0.2258445099000...</td>\n",
       "      <td>[[1, 10617.884518], [2, 10619.4994774]]</td>\n",
       "      <td>2</td>\n",
       "      <td>10</td>\n",
       "      <td>10000</td>\n",
       "      <td>[temp, rhum, dwpt]</td>\n",
       "      <td>[berlin_alexanderplatz, frankfurt_am_main_west...</td>\n",
       "      <td>separate</td>\n",
       "      <td>0.2</td>\n",
       "      <td>MAE</td>\n",
       "      <td>2</td>\n",
       "      <td>2</td>\n",
       "    </tr>\n",
       "    <tr>\n",
       "      <th>4</th>\n",
       "      <td>1970-01-01</td>\n",
       "      <td>MLP</td>\n",
       "      <td>weather</td>\n",
       "      <td>2</td>\n",
       "      <td>[[1, 0.2284888551], [2, 0.22254440190000002]]</td>\n",
       "      <td>[[1, 10634.7649193], [2, 10638.9479927]]</td>\n",
       "      <td>2</td>\n",
       "      <td>10</td>\n",
       "      <td>10000</td>\n",
       "      <td>[temp, rhum, dwpt]</td>\n",
       "      <td>[berlin_alexanderplatz, frankfurt_am_main_west...</td>\n",
       "      <td>separate</td>\n",
       "      <td>0.2</td>\n",
       "      <td>MAE</td>\n",
       "      <td>2</td>\n",
       "      <td>3</td>\n",
       "    </tr>\n",
       "  </tbody>\n",
       "</table>\n",
       "</div>"
      ],
      "text/plain": [
       "        date              model  dataset  rounds  \\\n",
       "0 1970-01-01  linear regression  weather       2   \n",
       "1 1970-01-01          linearSVR  weather       2   \n",
       "2 1970-01-01                MLP  weather       2   \n",
       "3 1970-01-01                MLP  weather       2   \n",
       "4 1970-01-01                MLP  weather       2   \n",
       "\n",
       "                                  losses_distributed  \\\n",
       "0             [[1, 0.2226459577], [2, 0.2234555605]]   \n",
       "1      [[1, 0.2140126819], [2, 0.21787175820000002]]   \n",
       "2             [[1, 0.2242389992], [2, 0.2104952633]]   \n",
       "3  [[1, 0.21910745650000002], [2, 0.2258445099000...   \n",
       "4      [[1, 0.2284888551], [2, 0.22254440190000002]]   \n",
       "\n",
       "                                       time  number_of_clients  entries  \\\n",
       "0  [[1, 10576.5143687], [2, 10576.5348202]]                  2       10   \n",
       "1  [[1, 10586.9262073], [2, 10586.9975151]]                  2       10   \n",
       "2    [[1, 10601.58299], [2, 10604.0674518]]                  2       10   \n",
       "3   [[1, 10617.884518], [2, 10619.4994774]]                  2       10   \n",
       "4  [[1, 10634.7649193], [2, 10638.9479927]]                  2       10   \n",
       "\n",
       "   number_of_samples          attributes  \\\n",
       "0              10000  [temp, rhum, dwpt]   \n",
       "1              10000  [temp, rhum, dwpt]   \n",
       "2              10000  [temp, rhum, dwpt]   \n",
       "3              10000  [temp, rhum, dwpt]   \n",
       "4              10000  [temp, rhum, dwpt]   \n",
       "\n",
       "                                            stations  scenario  \\\n",
       "0  [berlin_alexanderplatz, frankfurt_am_main_west...  separate   \n",
       "1  [berlin_alexanderplatz, frankfurt_am_main_west...  separate   \n",
       "2  [berlin_alexanderplatz, frankfurt_am_main_west...  separate   \n",
       "3  [berlin_alexanderplatz, frankfurt_am_main_west...  separate   \n",
       "4  [berlin_alexanderplatz, frankfurt_am_main_west...  separate   \n",
       "\n",
       "   percentage_of_testing_data loss  epochs  hidden_layers  \n",
       "0                         0.2  MAE      10              5  \n",
       "1                         0.2  MAE      10              5  \n",
       "2                         0.2  MAE       2              2  \n",
       "3                         0.2  MAE       2              2  \n",
       "4                         0.2  MAE       2              3  "
      ]
     },
     "execution_count": 2,
     "metadata": {},
     "output_type": "execute_result"
    }
   ],
   "source": [
    "#load data\n",
    "df = pd.read_json(\"../logs.json\")\n",
    "df.head()"
   ]
  },
  {
   "cell_type": "code",
   "execution_count": 3,
   "metadata": {},
   "outputs": [
    {
     "name": "stdout",
     "output_type": "stream",
     "text": [
      "\n",
      "Length: 223\n",
      "Covid entries: 72\n",
      "Weather entries: 151\n",
      "Contains Nans: False\n",
      "\n"
     ]
    }
   ],
   "source": [
    "#print information\n",
    "print(f\"\"\"\n",
    "Length: {len(df.index)}\n",
    "Covid entries: {len(df[df.dataset == \"covid\"].index)}\n",
    "Weather entries: {len(df[df.dataset == \"weather\"].index)}\n",
    "Contains Nans: {df.isnull().values.any()}\n",
    "\"\"\")"
   ]
  },
  {
   "cell_type": "code",
   "execution_count": 4,
   "metadata": {},
   "outputs": [
    {
     "data": {
      "text/html": [
       "<div>\n",
       "<style scoped>\n",
       "    .dataframe tbody tr th:only-of-type {\n",
       "        vertical-align: middle;\n",
       "    }\n",
       "\n",
       "    .dataframe tbody tr th {\n",
       "        vertical-align: top;\n",
       "    }\n",
       "\n",
       "    .dataframe thead th {\n",
       "        text-align: right;\n",
       "    }\n",
       "</style>\n",
       "<table border=\"1\" class=\"dataframe\">\n",
       "  <thead>\n",
       "    <tr style=\"text-align: right;\">\n",
       "      <th></th>\n",
       "      <th>count</th>\n",
       "      <th>mean</th>\n",
       "      <th>std</th>\n",
       "      <th>min</th>\n",
       "      <th>25%</th>\n",
       "      <th>50%</th>\n",
       "      <th>75%</th>\n",
       "      <th>max</th>\n",
       "    </tr>\n",
       "  </thead>\n",
       "  <tbody>\n",
       "    <tr>\n",
       "      <th>rounds</th>\n",
       "      <td>223.0</td>\n",
       "      <td>3.964126</td>\n",
       "      <td>2.802599e+00</td>\n",
       "      <td>2.0</td>\n",
       "      <td>2.0</td>\n",
       "      <td>2.0</td>\n",
       "      <td>4.0</td>\n",
       "      <td>10.0</td>\n",
       "    </tr>\n",
       "    <tr>\n",
       "      <th>number_of_clients</th>\n",
       "      <td>223.0</td>\n",
       "      <td>3.004484</td>\n",
       "      <td>1.002240e+00</td>\n",
       "      <td>2.0</td>\n",
       "      <td>2.0</td>\n",
       "      <td>4.0</td>\n",
       "      <td>4.0</td>\n",
       "      <td>4.0</td>\n",
       "    </tr>\n",
       "    <tr>\n",
       "      <th>entries</th>\n",
       "      <td>223.0</td>\n",
       "      <td>10.000000</td>\n",
       "      <td>0.000000e+00</td>\n",
       "      <td>10.0</td>\n",
       "      <td>10.0</td>\n",
       "      <td>10.0</td>\n",
       "      <td>10.0</td>\n",
       "      <td>10.0</td>\n",
       "    </tr>\n",
       "    <tr>\n",
       "      <th>number_of_samples</th>\n",
       "      <td>223.0</td>\n",
       "      <td>39058.295964</td>\n",
       "      <td>4.217628e+04</td>\n",
       "      <td>10000.0</td>\n",
       "      <td>10000.0</td>\n",
       "      <td>10000.0</td>\n",
       "      <td>100000.0</td>\n",
       "      <td>100000.0</td>\n",
       "    </tr>\n",
       "    <tr>\n",
       "      <th>percentage_of_testing_data</th>\n",
       "      <td>223.0</td>\n",
       "      <td>0.200000</td>\n",
       "      <td>2.781802e-17</td>\n",
       "      <td>0.2</td>\n",
       "      <td>0.2</td>\n",
       "      <td>0.2</td>\n",
       "      <td>0.2</td>\n",
       "      <td>0.2</td>\n",
       "    </tr>\n",
       "    <tr>\n",
       "      <th>epochs</th>\n",
       "      <td>223.0</td>\n",
       "      <td>7.452915</td>\n",
       "      <td>3.735184e+00</td>\n",
       "      <td>2.0</td>\n",
       "      <td>2.0</td>\n",
       "      <td>10.0</td>\n",
       "      <td>10.0</td>\n",
       "      <td>10.0</td>\n",
       "    </tr>\n",
       "    <tr>\n",
       "      <th>hidden_layers</th>\n",
       "      <td>223.0</td>\n",
       "      <td>3.071749</td>\n",
       "      <td>8.874805e-01</td>\n",
       "      <td>2.0</td>\n",
       "      <td>2.0</td>\n",
       "      <td>3.0</td>\n",
       "      <td>4.0</td>\n",
       "      <td>5.0</td>\n",
       "    </tr>\n",
       "  </tbody>\n",
       "</table>\n",
       "</div>"
      ],
      "text/plain": [
       "                            count          mean           std      min  \\\n",
       "rounds                      223.0      3.964126  2.802599e+00      2.0   \n",
       "number_of_clients           223.0      3.004484  1.002240e+00      2.0   \n",
       "entries                     223.0     10.000000  0.000000e+00     10.0   \n",
       "number_of_samples           223.0  39058.295964  4.217628e+04  10000.0   \n",
       "percentage_of_testing_data  223.0      0.200000  2.781802e-17      0.2   \n",
       "epochs                      223.0      7.452915  3.735184e+00      2.0   \n",
       "hidden_layers               223.0      3.071749  8.874805e-01      2.0   \n",
       "\n",
       "                                25%      50%       75%       max  \n",
       "rounds                          2.0      2.0       4.0      10.0  \n",
       "number_of_clients               2.0      4.0       4.0       4.0  \n",
       "entries                        10.0     10.0      10.0      10.0  \n",
       "number_of_samples           10000.0  10000.0  100000.0  100000.0  \n",
       "percentage_of_testing_data      0.2      0.2       0.2       0.2  \n",
       "epochs                          2.0     10.0      10.0      10.0  \n",
       "hidden_layers                   2.0      3.0       4.0       5.0  "
      ]
     },
     "execution_count": 4,
     "metadata": {},
     "output_type": "execute_result"
    }
   ],
   "source": [
    "df.describe().T"
   ]
  },
  {
   "attachments": {},
   "cell_type": "markdown",
   "metadata": {},
   "source": [
    "The next part examines characteristics of each use case. "
   ]
  },
  {
   "attachments": {},
   "cell_type": "markdown",
   "metadata": {},
   "source": [
    "### Weather dataset"
   ]
  },
  {
   "cell_type": "code",
   "execution_count": 5,
   "metadata": {},
   "outputs": [],
   "source": [
    "#get horizontal use case\n",
    "weather_df = df[df.dataset == \"weather\"]"
   ]
  },
  {
   "cell_type": "code",
   "execution_count": 6,
   "metadata": {},
   "outputs": [
    {
     "name": "stdout",
     "output_type": "stream",
     "text": [
      "\n",
      "Linear Regression entries: 4\n",
      "LinearSVR entries: 4\n",
      "MLP entries: 47\n",
      "LSTM entries: 48\n",
      "CNN entries: 48\n",
      "\n"
     ]
    }
   ],
   "source": [
    "#print general information\n",
    "print(f\"\"\"\n",
    "Linear Regression entries: {len(weather_df[weather_df.model == \"linear regression\"].index)}\n",
    "LinearSVR entries: {len(weather_df[weather_df.model == \"linearSVR\"].index)}\n",
    "MLP entries: {len(weather_df[weather_df.model == \"MLP\"].index)}\n",
    "LSTM entries: {len(weather_df[weather_df.model == \"LSTM\"].index)}\n",
    "CNN entries: {len(weather_df[weather_df.model == \"CNN\"].index)}\n",
    "\"\"\")"
   ]
  },
  {
   "attachments": {},
   "cell_type": "markdown",
   "metadata": {},
   "source": [
    "The first interesting is to see how well the best model of every algorithm performed."
   ]
  },
  {
   "cell_type": "code",
   "execution_count": 7,
   "metadata": {},
   "outputs": [
    {
     "data": {
      "text/html": [
       "<div>\n",
       "<style scoped>\n",
       "    .dataframe tbody tr th:only-of-type {\n",
       "        vertical-align: middle;\n",
       "    }\n",
       "\n",
       "    .dataframe tbody tr th {\n",
       "        vertical-align: top;\n",
       "    }\n",
       "\n",
       "    .dataframe thead th {\n",
       "        text-align: right;\n",
       "    }\n",
       "</style>\n",
       "<table border=\"1\" class=\"dataframe\">\n",
       "  <thead>\n",
       "    <tr style=\"text-align: right;\">\n",
       "      <th></th>\n",
       "      <th>date</th>\n",
       "      <th>model</th>\n",
       "      <th>dataset</th>\n",
       "      <th>rounds</th>\n",
       "      <th>losses_distributed</th>\n",
       "      <th>time</th>\n",
       "      <th>number_of_clients</th>\n",
       "      <th>entries</th>\n",
       "      <th>number_of_samples</th>\n",
       "      <th>attributes</th>\n",
       "      <th>stations</th>\n",
       "      <th>scenario</th>\n",
       "      <th>percentage_of_testing_data</th>\n",
       "      <th>loss</th>\n",
       "      <th>epochs</th>\n",
       "      <th>hidden_layers</th>\n",
       "    </tr>\n",
       "  </thead>\n",
       "  <tbody>\n",
       "    <tr>\n",
       "      <th>0</th>\n",
       "      <td>1970-01-01</td>\n",
       "      <td>linear regression</td>\n",
       "      <td>weather</td>\n",
       "      <td>4</td>\n",
       "      <td>0.217215</td>\n",
       "      <td>[[1, 11919.1425425], [2, 11919.1607451], [3, 1...</td>\n",
       "      <td>2</td>\n",
       "      <td>10</td>\n",
       "      <td>10000</td>\n",
       "      <td>[temp, rhum, dwpt]</td>\n",
       "      <td>[berlin_alexanderplatz, frankfurt_am_main_west...</td>\n",
       "      <td>separate</td>\n",
       "      <td>0.2</td>\n",
       "      <td>MAE</td>\n",
       "      <td>10</td>\n",
       "      <td>5</td>\n",
       "    </tr>\n",
       "    <tr>\n",
       "      <th>1</th>\n",
       "      <td>1970-01-01</td>\n",
       "      <td>linearSVR</td>\n",
       "      <td>weather</td>\n",
       "      <td>4</td>\n",
       "      <td>0.217683</td>\n",
       "      <td>[[1, 11929.5103741], [2, 11929.5911009], [3, 1...</td>\n",
       "      <td>2</td>\n",
       "      <td>10</td>\n",
       "      <td>10000</td>\n",
       "      <td>[temp, rhum, dwpt]</td>\n",
       "      <td>[berlin_alexanderplatz, frankfurt_am_main_west...</td>\n",
       "      <td>separate</td>\n",
       "      <td>0.2</td>\n",
       "      <td>MAE</td>\n",
       "      <td>10</td>\n",
       "      <td>5</td>\n",
       "    </tr>\n",
       "    <tr>\n",
       "      <th>2</th>\n",
       "      <td>1970-01-01</td>\n",
       "      <td>MLP</td>\n",
       "      <td>weather</td>\n",
       "      <td>4</td>\n",
       "      <td>0.182570</td>\n",
       "      <td>[[1, 12347.0479739], [2, 12356.8283852], [3, 1...</td>\n",
       "      <td>2</td>\n",
       "      <td>10</td>\n",
       "      <td>10000</td>\n",
       "      <td>[temp, rhum, dwpt]</td>\n",
       "      <td>[berlin_alexanderplatz, frankfurt_am_main_west...</td>\n",
       "      <td>separate</td>\n",
       "      <td>0.2</td>\n",
       "      <td>MAE</td>\n",
       "      <td>10</td>\n",
       "      <td>4</td>\n",
       "    </tr>\n",
       "    <tr>\n",
       "      <th>3</th>\n",
       "      <td>1970-01-01</td>\n",
       "      <td>LSTM</td>\n",
       "      <td>weather</td>\n",
       "      <td>4</td>\n",
       "      <td>0.206540</td>\n",
       "      <td>[[1, 12775.0664505], [2, 12805.5933949], [3, 1...</td>\n",
       "      <td>2</td>\n",
       "      <td>10</td>\n",
       "      <td>10000</td>\n",
       "      <td>[temp, rhum, dwpt]</td>\n",
       "      <td>[berlin_alexanderplatz, frankfurt_am_main_west...</td>\n",
       "      <td>separate</td>\n",
       "      <td>0.2</td>\n",
       "      <td>MAE</td>\n",
       "      <td>10</td>\n",
       "      <td>2</td>\n",
       "    </tr>\n",
       "    <tr>\n",
       "      <th>4</th>\n",
       "      <td>1970-01-01</td>\n",
       "      <td>CNN</td>\n",
       "      <td>weather</td>\n",
       "      <td>4</td>\n",
       "      <td>0.198107</td>\n",
       "      <td>[[1, 20000.5160829], [2, 20014.6342996], [3, 2...</td>\n",
       "      <td>2</td>\n",
       "      <td>10</td>\n",
       "      <td>10000</td>\n",
       "      <td>[temp, rhum, dwpt]</td>\n",
       "      <td>[berlin_alexanderplatz, frankfurt_am_main_west...</td>\n",
       "      <td>separate</td>\n",
       "      <td>0.2</td>\n",
       "      <td>MAE</td>\n",
       "      <td>10</td>\n",
       "      <td>3</td>\n",
       "    </tr>\n",
       "  </tbody>\n",
       "</table>\n",
       "</div>"
      ],
      "text/plain": [
       "        date              model  dataset rounds  losses_distributed  \\\n",
       "0 1970-01-01  linear regression  weather      4            0.217215   \n",
       "1 1970-01-01          linearSVR  weather      4            0.217683   \n",
       "2 1970-01-01                MLP  weather      4            0.182570   \n",
       "3 1970-01-01               LSTM  weather      4            0.206540   \n",
       "4 1970-01-01                CNN  weather      4            0.198107   \n",
       "\n",
       "                                                time number_of_clients  \\\n",
       "0  [[1, 11919.1425425], [2, 11919.1607451], [3, 1...                 2   \n",
       "1  [[1, 11929.5103741], [2, 11929.5911009], [3, 1...                 2   \n",
       "2  [[1, 12347.0479739], [2, 12356.8283852], [3, 1...                 2   \n",
       "3  [[1, 12775.0664505], [2, 12805.5933949], [3, 1...                 2   \n",
       "4  [[1, 20000.5160829], [2, 20014.6342996], [3, 2...                 2   \n",
       "\n",
       "  entries number_of_samples          attributes  \\\n",
       "0      10             10000  [temp, rhum, dwpt]   \n",
       "1      10             10000  [temp, rhum, dwpt]   \n",
       "2      10             10000  [temp, rhum, dwpt]   \n",
       "3      10             10000  [temp, rhum, dwpt]   \n",
       "4      10             10000  [temp, rhum, dwpt]   \n",
       "\n",
       "                                            stations  scenario  \\\n",
       "0  [berlin_alexanderplatz, frankfurt_am_main_west...  separate   \n",
       "1  [berlin_alexanderplatz, frankfurt_am_main_west...  separate   \n",
       "2  [berlin_alexanderplatz, frankfurt_am_main_west...  separate   \n",
       "3  [berlin_alexanderplatz, frankfurt_am_main_west...  separate   \n",
       "4  [berlin_alexanderplatz, frankfurt_am_main_west...  separate   \n",
       "\n",
       "   percentage_of_testing_data loss epochs hidden_layers  \n",
       "0                         0.2  MAE     10             5  \n",
       "1                         0.2  MAE     10             5  \n",
       "2                         0.2  MAE     10             4  \n",
       "3                         0.2  MAE     10             2  \n",
       "4                         0.2  MAE     10             3  "
      ]
     },
     "execution_count": 7,
     "metadata": {},
     "output_type": "execute_result"
    }
   ],
   "source": [
    "models = [\"linear regression\", \"linearSVR\", \"MLP\", \"LSTM\", \"CNN\"]\n",
    "best_weather_performance = pd.DataFrame(columns=weather_df.columns)\n",
    "for i, model in enumerate(models):\n",
    "    df_copy = weather_df[weather_df.model == model].copy(deep=True)\n",
    "    df_copy[\"losses_distributed\"] = df_copy[\"losses_distributed\"].apply(lambda x: x[-1][-1])\n",
    "    best_weather_performance = pd.concat([best_weather_performance, df_copy.sort_values(by=[\"losses_distributed\"], ascending=True).iloc[0:1, :]], ignore_index=True)\n",
    "\n",
    "best_weather_performance.head()\n",
    "    "
   ]
  },
  {
   "attachments": {},
   "cell_type": "markdown",
   "metadata": {},
   "source": [
    "The results match the expectations. The linear models can understand the underlying structure of the data. But the neural-network based models more capable in adapting to it. Interestingly, the MLP had the best performance. But in general the differences are minor."
   ]
  },
  {
   "cell_type": "code",
   "execution_count": 8,
   "metadata": {},
   "outputs": [
    {
     "data": {
      "text/plain": [
       "<AxesSubplot: xlabel='model', ylabel='losses_distributed'>"
      ]
     },
     "execution_count": 8,
     "metadata": {},
     "output_type": "execute_result"
    },
    {
     "data": {
      "image/png": "[encoded data removed]",
      "text/plain": [
       "<Figure size 640x480 with 1 Axes>"
      ]
     },
     "metadata": {},
     "output_type": "display_data"
    }
   ],
   "source": [
    "sns.barplot(data=best_weather_performance, x=\"model\", y=\"losses_distributed\")"
   ]
  },
  {
   "attachments": {},
   "cell_type": "markdown",
   "metadata": {},
   "source": [
    "What is the average performance?"
   ]
  },
  {
   "cell_type": "code",
   "execution_count": 9,
   "metadata": {},
   "outputs": [],
   "source": [
    "average_weather_performance = {\"linear regression\": 0, \"linearSVR\": 0, \"MLP\": 0, \"LSTM\": 0, \"CNN\": 0}\n",
    "for  model in models:\n",
    "    df_copy = weather_df[weather_df.model == model].copy(deep=True)\n",
    "    df_copy[\"losses_distributed\"] = df_copy[\"losses_distributed\"].apply(lambda x: x[-1][-1])\n",
    "    #print(df_copy[\"losses_distributed\"].mean())\n",
    "    average_weather_performance[model] = df_copy[\"losses_distributed\"].mean()\n",
    "\n",
    "average_weather_performance = pd.DataFrame(list(average_weather_performance.items()), columns=[\"model\", \"losses_distributed\"])"
   ]
  },
  {
   "cell_type": "code",
   "execution_count": 10,
   "metadata": {},
   "outputs": [
    {
     "data": {
      "text/plain": [
       "<AxesSubplot: xlabel='model', ylabel='losses_distributed'>"
      ]
     },
     "execution_count": 10,
     "metadata": {},
     "output_type": "execute_result"
    },
    {
     "data": {
      "image/png": "[encoded data removed]",
      "text/plain": [
       "<Figure size 640x480 with 1 Axes>"
      ]
     },
     "metadata": {},
     "output_type": "display_data"
    }
   ],
   "source": [
    "sns.barplot(average_weather_performance, x=\"model\", y=\"losses_distributed\")"
   ]
  },
  {
   "attachments": {},
   "cell_type": "markdown",
   "metadata": {},
   "source": [
    "The models performed almost identically on average. Next, it is interesting to see the variation in the data. Every record has a different parameter configuration. How \"robust\" are the algorithms?"
   ]
  },
  {
   "cell_type": "code",
   "execution_count": 11,
   "metadata": {},
   "outputs": [
    {
     "data": {
      "text/html": [
       "<div>\n",
       "<style scoped>\n",
       "    .dataframe tbody tr th:only-of-type {\n",
       "        vertical-align: middle;\n",
       "    }\n",
       "\n",
       "    .dataframe tbody tr th {\n",
       "        vertical-align: top;\n",
       "    }\n",
       "\n",
       "    .dataframe thead th {\n",
       "        text-align: right;\n",
       "    }\n",
       "</style>\n",
       "<table border=\"1\" class=\"dataframe\">\n",
       "  <thead>\n",
       "    <tr style=\"text-align: right;\">\n",
       "      <th></th>\n",
       "      <th>date</th>\n",
       "      <th>model</th>\n",
       "      <th>dataset</th>\n",
       "      <th>rounds</th>\n",
       "      <th>losses_distributed</th>\n",
       "      <th>time</th>\n",
       "      <th>number_of_clients</th>\n",
       "      <th>entries</th>\n",
       "      <th>number_of_samples</th>\n",
       "      <th>attributes</th>\n",
       "      <th>stations</th>\n",
       "      <th>scenario</th>\n",
       "      <th>percentage_of_testing_data</th>\n",
       "      <th>loss</th>\n",
       "      <th>epochs</th>\n",
       "      <th>hidden_layers</th>\n",
       "    </tr>\n",
       "  </thead>\n",
       "  <tbody>\n",
       "    <tr>\n",
       "      <th>0</th>\n",
       "      <td>1970-01-01</td>\n",
       "      <td>linear regression</td>\n",
       "      <td>weather</td>\n",
       "      <td>2</td>\n",
       "      <td>0.223456</td>\n",
       "      <td>[[1, 10576.5143687], [2, 10576.5348202]]</td>\n",
       "      <td>2</td>\n",
       "      <td>10</td>\n",
       "      <td>10000</td>\n",
       "      <td>[temp, rhum, dwpt]</td>\n",
       "      <td>[berlin_alexanderplatz, frankfurt_am_main_west...</td>\n",
       "      <td>separate</td>\n",
       "      <td>0.2</td>\n",
       "      <td>MAE</td>\n",
       "      <td>10</td>\n",
       "      <td>5</td>\n",
       "    </tr>\n",
       "    <tr>\n",
       "      <th>1</th>\n",
       "      <td>1970-01-01</td>\n",
       "      <td>linearSVR</td>\n",
       "      <td>weather</td>\n",
       "      <td>2</td>\n",
       "      <td>0.217872</td>\n",
       "      <td>[[1, 10586.9262073], [2, 10586.9975151]]</td>\n",
       "      <td>2</td>\n",
       "      <td>10</td>\n",
       "      <td>10000</td>\n",
       "      <td>[temp, rhum, dwpt]</td>\n",
       "      <td>[berlin_alexanderplatz, frankfurt_am_main_west...</td>\n",
       "      <td>separate</td>\n",
       "      <td>0.2</td>\n",
       "      <td>MAE</td>\n",
       "      <td>10</td>\n",
       "      <td>5</td>\n",
       "    </tr>\n",
       "    <tr>\n",
       "      <th>2</th>\n",
       "      <td>1970-01-01</td>\n",
       "      <td>MLP</td>\n",
       "      <td>weather</td>\n",
       "      <td>2</td>\n",
       "      <td>0.210495</td>\n",
       "      <td>[[1, 10601.58299], [2, 10604.0674518]]</td>\n",
       "      <td>2</td>\n",
       "      <td>10</td>\n",
       "      <td>10000</td>\n",
       "      <td>[temp, rhum, dwpt]</td>\n",
       "      <td>[berlin_alexanderplatz, frankfurt_am_main_west...</td>\n",
       "      <td>separate</td>\n",
       "      <td>0.2</td>\n",
       "      <td>MAE</td>\n",
       "      <td>2</td>\n",
       "      <td>2</td>\n",
       "    </tr>\n",
       "    <tr>\n",
       "      <th>3</th>\n",
       "      <td>1970-01-01</td>\n",
       "      <td>MLP</td>\n",
       "      <td>weather</td>\n",
       "      <td>2</td>\n",
       "      <td>0.225845</td>\n",
       "      <td>[[1, 10617.884518], [2, 10619.4994774]]</td>\n",
       "      <td>2</td>\n",
       "      <td>10</td>\n",
       "      <td>10000</td>\n",
       "      <td>[temp, rhum, dwpt]</td>\n",
       "      <td>[berlin_alexanderplatz, frankfurt_am_main_west...</td>\n",
       "      <td>separate</td>\n",
       "      <td>0.2</td>\n",
       "      <td>MAE</td>\n",
       "      <td>2</td>\n",
       "      <td>2</td>\n",
       "    </tr>\n",
       "    <tr>\n",
       "      <th>4</th>\n",
       "      <td>1970-01-01</td>\n",
       "      <td>MLP</td>\n",
       "      <td>weather</td>\n",
       "      <td>2</td>\n",
       "      <td>0.222544</td>\n",
       "      <td>[[1, 10634.7649193], [2, 10638.9479927]]</td>\n",
       "      <td>2</td>\n",
       "      <td>10</td>\n",
       "      <td>10000</td>\n",
       "      <td>[temp, rhum, dwpt]</td>\n",
       "      <td>[berlin_alexanderplatz, frankfurt_am_main_west...</td>\n",
       "      <td>separate</td>\n",
       "      <td>0.2</td>\n",
       "      <td>MAE</td>\n",
       "      <td>2</td>\n",
       "      <td>3</td>\n",
       "    </tr>\n",
       "  </tbody>\n",
       "</table>\n",
       "</div>"
      ],
      "text/plain": [
       "        date              model  dataset  rounds  losses_distributed  \\\n",
       "0 1970-01-01  linear regression  weather       2            0.223456   \n",
       "1 1970-01-01          linearSVR  weather       2            0.217872   \n",
       "2 1970-01-01                MLP  weather       2            0.210495   \n",
       "3 1970-01-01                MLP  weather       2            0.225845   \n",
       "4 1970-01-01                MLP  weather       2            0.222544   \n",
       "\n",
       "                                       time  number_of_clients  entries  \\\n",
       "0  [[1, 10576.5143687], [2, 10576.5348202]]                  2       10   \n",
       "1  [[1, 10586.9262073], [2, 10586.9975151]]                  2       10   \n",
       "2    [[1, 10601.58299], [2, 10604.0674518]]                  2       10   \n",
       "3   [[1, 10617.884518], [2, 10619.4994774]]                  2       10   \n",
       "4  [[1, 10634.7649193], [2, 10638.9479927]]                  2       10   \n",
       "\n",
       "   number_of_samples          attributes  \\\n",
       "0              10000  [temp, rhum, dwpt]   \n",
       "1              10000  [temp, rhum, dwpt]   \n",
       "2              10000  [temp, rhum, dwpt]   \n",
       "3              10000  [temp, rhum, dwpt]   \n",
       "4              10000  [temp, rhum, dwpt]   \n",
       "\n",
       "                                            stations  scenario  \\\n",
       "0  [berlin_alexanderplatz, frankfurt_am_main_west...  separate   \n",
       "1  [berlin_alexanderplatz, frankfurt_am_main_west...  separate   \n",
       "2  [berlin_alexanderplatz, frankfurt_am_main_west...  separate   \n",
       "3  [berlin_alexanderplatz, frankfurt_am_main_west...  separate   \n",
       "4  [berlin_alexanderplatz, frankfurt_am_main_west...  separate   \n",
       "\n",
       "   percentage_of_testing_data loss  epochs  hidden_layers  \n",
       "0                         0.2  MAE      10              5  \n",
       "1                         0.2  MAE      10              5  \n",
       "2                         0.2  MAE       2              2  \n",
       "3                         0.2  MAE       2              2  \n",
       "4                         0.2  MAE       2              3  "
      ]
     },
     "execution_count": 11,
     "metadata": {},
     "output_type": "execute_result"
    }
   ],
   "source": [
    "results_only_df = weather_df.copy(deep=True)\n",
    "results_only_df[\"losses_distributed\"] = results_only_df[\"losses_distributed\"].apply(lambda x: x[-1][-1])\n",
    "results_only_df.head()"
   ]
  },
  {
   "cell_type": "code",
   "execution_count": 12,
   "metadata": {},
   "outputs": [
    {
     "data": {
      "text/plain": [
       "<AxesSubplot: xlabel='losses_distributed', ylabel='model'>"
      ]
     },
     "execution_count": 12,
     "metadata": {},
     "output_type": "execute_result"
    },
    {
     "data": {
      "image/png": "[encoded data removed]",
      "text/plain": [
       "<Figure size 640x480 with 1 Axes>"
      ]
     },
     "metadata": {},
     "output_type": "display_data"
    }
   ],
   "source": [
    "sns.boxplot(data=results_only_df, x=\"losses_distributed\", y=\"model\")"
   ]
  },
  {
   "attachments": {},
   "cell_type": "markdown",
   "metadata": {},
   "source": [
    "How big is the difference between two and four clients?"
   ]
  },
  {
   "cell_type": "code",
   "execution_count": 13,
   "metadata": {},
   "outputs": [
    {
     "name": "stdout",
     "output_type": "stream",
     "text": [
      "\n",
      "Entries for two clients: 75\n",
      "Entries for four clients: 76\n",
      "\n"
     ]
    }
   ],
   "source": [
    "print(f\"\"\"\n",
    "Entries for two clients: {len(weather_df[weather_df.number_of_clients == 2].index)}\n",
    "Entries for four clients: {len(weather_df[weather_df.number_of_clients == 4].index)}\n",
    "\"\"\")"
   ]
  },
  {
   "cell_type": "code",
   "execution_count": 14,
   "metadata": {},
   "outputs": [
    {
     "data": {
      "text/plain": [
       "<AxesSubplot: ylabel='Density'>"
      ]
     },
     "execution_count": 14,
     "metadata": {},
     "output_type": "execute_result"
    },
    {
     "data": {
      "image/png": "[encoded data removed]",
      "text/plain": [
       "<Figure size 640x480 with 1 Axes>"
      ]
     },
     "metadata": {},
     "output_type": "display_data"
    }
   ],
   "source": [
    "two_clients_df = results_only_df[results_only_df.number_of_clients == 2]\n",
    "four_clients_df = results_only_df[results_only_df.number_of_clients == 4]\n",
    "\n",
    "num_of_clients_diff_df = pd.DataFrame({\"two clients\": two_clients_df.losses_distributed, \"four clients\": four_clients_df.losses_distributed})\n",
    "\n",
    "sns.kdeplot(num_of_clients_diff_df)"
   ]
  },
  {
   "attachments": {},
   "cell_type": "markdown",
   "metadata": {},
   "source": [
    "It looks like more clients acutally worsened the results. Do the number of rounds impact the model performance?"
   ]
  },
  {
   "cell_type": "code",
   "execution_count": 15,
   "metadata": {},
   "outputs": [
    {
     "data": {
      "text/plain": [
       "<AxesSubplot: ylabel='Density'>"
      ]
     },
     "execution_count": 15,
     "metadata": {},
     "output_type": "execute_result"
    },
    {
     "data": {
      "image/png": "[encoded data removed]",
      "text/plain": [
       "<Figure size 640x480 with 1 Axes>"
      ]
     },
     "metadata": {},
     "output_type": "display_data"
    }
   ],
   "source": [
    "two_rounds_df = results_only_df[results_only_df.rounds == 2]\n",
    "four_rounds_df = results_only_df[results_only_df.rounds == 4]\n",
    "\n",
    "num_of_rounds_diff_df = pd.DataFrame({\"two rounds\": two_rounds_df.losses_distributed, \"four rounds\": four_rounds_df.losses_distributed})\n",
    "\n",
    "sns.kdeplot(num_of_rounds_diff_df)"
   ]
  },
  {
   "attachments": {},
   "cell_type": "markdown",
   "metadata": {},
   "source": [
    "The number of rounds seems to have an impact on performance. The average is almost the same, but the tails are different. Four rounds has a fat tail on the left, while the two rounds distribution has one on the right. What the skew and kurosis of the distributions?"
   ]
  },
  {
   "cell_type": "code",
   "execution_count": 16,
   "metadata": {},
   "outputs": [
    {
     "name": "stdout",
     "output_type": "stream",
     "text": [
      "\n",
      "Two rounds skew: 1.5693143204844295\n",
      "Two rounds kurosis: 5.696400153934413\n",
      "Four rounds skew: -0.8485354721781264\n",
      "Four rounds kurtosis: 0.2908048777307082\n",
      "\n"
     ]
    }
   ],
   "source": [
    "print(f\"\"\"\n",
    "Two rounds skew: {two_rounds_df.losses_distributed.skew()}\n",
    "Two rounds kurosis: {two_rounds_df.losses_distributed.kurtosis()}\n",
    "Four rounds skew: {four_rounds_df.losses_distributed.skew()}\n",
    "Four rounds kurtosis: {four_rounds_df.losses_distributed.kurtosis()}\n",
    "\"\"\")"
   ]
  },
  {
   "attachments": {},
   "cell_type": "markdown",
   "metadata": {},
   "source": [
    "Training with two rounds creates a left-skewed distribution with a high kurosis of around 5.7. It has an excess kurtosis of 2.7 and is therefore leptokurtic.\n",
    "Training with four rounds creates a slightly right-skewed distribution and has a small negative kurtosis of around 0.3.\n",
    "\n",
    "Next, let's look at the average training time."
   ]
  },
  {
   "cell_type": "code",
   "execution_count": 17,
   "metadata": {},
   "outputs": [],
   "source": [
    "def calculate_training_time(time_array):\n",
    "    #get the timestamps\n",
    "    timestamps = []\n",
    "    for el in time_array:\n",
    "        timestamps.append(el[-1])\n",
    "    \n",
    "    #calculate difference\n",
    "    diff = []\n",
    "    for i in range(len(timestamps)):\n",
    "        if i == len(timestamps)-1:\n",
    "            break\n",
    "        diff.append((timestamps[i+1] - timestamps[i]))\n",
    "    return diff\n",
    "\n",
    "time_diff_df = weather_df.copy(deep=True)\n",
    "time_diff_df[\"time\"] = time_diff_df[\"time\"].apply(calculate_training_time)"
   ]
  },
  {
   "cell_type": "code",
   "execution_count": 18,
   "metadata": {},
   "outputs": [],
   "source": [
    "time_average_df = time_diff_df\n",
    "time_average_df[\"time\"] = time_average_df[\"time\"].apply(lambda x: np.array(x).mean())"
   ]
  },
  {
   "cell_type": "code",
   "execution_count": 19,
   "metadata": {},
   "outputs": [
    {
     "data": {
      "text/html": [
       "<div>\n",
       "<style scoped>\n",
       "    .dataframe tbody tr th:only-of-type {\n",
       "        vertical-align: middle;\n",
       "    }\n",
       "\n",
       "    .dataframe tbody tr th {\n",
       "        vertical-align: top;\n",
       "    }\n",
       "\n",
       "    .dataframe thead th {\n",
       "        text-align: right;\n",
       "    }\n",
       "</style>\n",
       "<table border=\"1\" class=\"dataframe\">\n",
       "  <thead>\n",
       "    <tr style=\"text-align: right;\">\n",
       "      <th></th>\n",
       "      <th>model</th>\n",
       "      <th>time</th>\n",
       "    </tr>\n",
       "  </thead>\n",
       "  <tbody>\n",
       "    <tr>\n",
       "      <th>0</th>\n",
       "      <td>linear regression</td>\n",
       "      <td>0.023744</td>\n",
       "    </tr>\n",
       "    <tr>\n",
       "      <th>1</th>\n",
       "      <td>linearSVR</td>\n",
       "      <td>0.061238</td>\n",
       "    </tr>\n",
       "    <tr>\n",
       "      <th>2</th>\n",
       "      <td>MLP</td>\n",
       "      <td>7.355131</td>\n",
       "    </tr>\n",
       "    <tr>\n",
       "      <th>3</th>\n",
       "      <td>LSTM</td>\n",
       "      <td>23.770155</td>\n",
       "    </tr>\n",
       "    <tr>\n",
       "      <th>4</th>\n",
       "      <td>CNN</td>\n",
       "      <td>7.257786</td>\n",
       "    </tr>\n",
       "  </tbody>\n",
       "</table>\n",
       "</div>"
      ],
      "text/plain": [
       "               model       time\n",
       "0  linear regression   0.023744\n",
       "1          linearSVR   0.061238\n",
       "2                MLP   7.355131\n",
       "3               LSTM  23.770155\n",
       "4                CNN   7.257786"
      ]
     },
     "execution_count": 19,
     "metadata": {},
     "output_type": "execute_result"
    }
   ],
   "source": [
    "average_time_performance = {\"linear regression\": 0, \"linearSVR\": 0, \"MLP\": 0, \"LSTM\": 0, \"CNN\": 0}\n",
    "for  model in models:\n",
    "    df = time_average_df[time_average_df.model == model]\n",
    "    average_time_performance[model] = df[\"time\"].mean()\n",
    "\n",
    "average_time_performance = pd.DataFrame(list(average_time_performance.items()), columns=[\"model\", \"time\"])\n",
    "average_time_performance.head()"
   ]
  },
  {
   "cell_type": "code",
   "execution_count": 20,
   "metadata": {},
   "outputs": [
    {
     "data": {
      "text/plain": [
       "<AxesSubplot: xlabel='model', ylabel='time'>"
      ]
     },
     "execution_count": 20,
     "metadata": {},
     "output_type": "execute_result"
    },
    {
     "data": {
      "image/png": "[encoded data removed]",
      "text/plain": [
       "<Figure size 640x480 with 1 Axes>"
      ]
     },
     "metadata": {},
     "output_type": "display_data"
    }
   ],
   "source": [
    "sns.barplot(average_time_performance, x=\"model\", y=\"time\")"
   ]
  },
  {
   "cell_type": "code",
   "execution_count": 21,
   "metadata": {},
   "outputs": [
    {
     "name": "stdout",
     "output_type": "stream",
     "text": [
      "The training of a linear regression model is 1001.1173724721822 times faster than that of a LSTM.\n"
     ]
    }
   ],
   "source": [
    "print(f'The training of a linear regression model is {average_time_performance.time.iloc[3] / average_time_performance.time.iloc[0]} times faster than that of a LSTM.')"
   ]
  },
  {
   "attachments": {},
   "cell_type": "markdown",
   "metadata": {},
   "source": [
    "How big is the variance in training time?"
   ]
  },
  {
   "cell_type": "code",
   "execution_count": 22,
   "metadata": {},
   "outputs": [
    {
     "data": {
      "text/plain": [
       "<AxesSubplot: xlabel='time', ylabel='model'>"
      ]
     },
     "execution_count": 22,
     "metadata": {},
     "output_type": "execute_result"
    },
    {
     "data": {
      "image/png": "[encoded data removed]",
      "text/plain": [
       "<Figure size 640x480 with 1 Axes>"
      ]
     },
     "metadata": {},
     "output_type": "display_data"
    }
   ],
   "source": [
    "sns.boxplot(data=time_diff_df, x=\"time\", y=\"model\")"
   ]
  },
  {
   "attachments": {},
   "cell_type": "markdown",
   "metadata": {},
   "source": [
    "Now lets compare the models with the baseline. First, all FL models are compared to the baselines. It is likely they perform worse on average because of their hyperparameters. After that the best models, as well as the models with optimal hyperparameters are selected, trained multiple times to minimize the effect of random initialization and then compared. "
   ]
  },
  {
   "cell_type": "code",
   "execution_count": 23,
   "metadata": {},
   "outputs": [],
   "source": [
    "import json\n",
    "\n",
    "with open('exports/weather_baselines.json') as data:\n",
    "    baselines = json.load(data)\n",
    "    data.close()"
   ]
  },
  {
   "cell_type": "code",
   "execution_count": 24,
   "metadata": {},
   "outputs": [
    {
     "data": {
      "text/html": [
       "<div>\n",
       "<style scoped>\n",
       "    .dataframe tbody tr th:only-of-type {\n",
       "        vertical-align: middle;\n",
       "    }\n",
       "\n",
       "    .dataframe tbody tr th {\n",
       "        vertical-align: top;\n",
       "    }\n",
       "\n",
       "    .dataframe thead th {\n",
       "        text-align: right;\n",
       "    }\n",
       "</style>\n",
       "<table border=\"1\" class=\"dataframe\">\n",
       "  <thead>\n",
       "    <tr style=\"text-align: right;\">\n",
       "      <th></th>\n",
       "      <th>client_data1</th>\n",
       "      <th>client_time1</th>\n",
       "      <th>client_data2</th>\n",
       "      <th>client_time2</th>\n",
       "      <th>client_data3</th>\n",
       "      <th>client_time3</th>\n",
       "      <th>client_data4</th>\n",
       "      <th>client_time4</th>\n",
       "      <th>model</th>\n",
       "    </tr>\n",
       "  </thead>\n",
       "  <tbody>\n",
       "    <tr>\n",
       "      <th>0</th>\n",
       "      <td>0.222270</td>\n",
       "      <td>0.010939</td>\n",
       "      <td>0.223302</td>\n",
       "      <td>0.016511</td>\n",
       "      <td>0.224021</td>\n",
       "      <td>0.021223</td>\n",
       "      <td>0.230759</td>\n",
       "      <td>0.012161</td>\n",
       "      <td>linear_regression</td>\n",
       "    </tr>\n",
       "    <tr>\n",
       "      <th>1</th>\n",
       "      <td>0.222270</td>\n",
       "      <td>0.015447</td>\n",
       "      <td>0.223302</td>\n",
       "      <td>0.019307</td>\n",
       "      <td>0.224021</td>\n",
       "      <td>0.029146</td>\n",
       "      <td>0.230759</td>\n",
       "      <td>0.014056</td>\n",
       "      <td>linear_regression</td>\n",
       "    </tr>\n",
       "    <tr>\n",
       "      <th>2</th>\n",
       "      <td>0.222270</td>\n",
       "      <td>0.015393</td>\n",
       "      <td>0.223302</td>\n",
       "      <td>0.014606</td>\n",
       "      <td>0.224021</td>\n",
       "      <td>0.015327</td>\n",
       "      <td>0.230759</td>\n",
       "      <td>0.021031</td>\n",
       "      <td>linear_regression</td>\n",
       "    </tr>\n",
       "    <tr>\n",
       "      <th>3</th>\n",
       "      <td>0.222270</td>\n",
       "      <td>0.015276</td>\n",
       "      <td>0.223302</td>\n",
       "      <td>0.013431</td>\n",
       "      <td>0.224021</td>\n",
       "      <td>0.015049</td>\n",
       "      <td>0.230759</td>\n",
       "      <td>0.016273</td>\n",
       "      <td>linear_regression</td>\n",
       "    </tr>\n",
       "    <tr>\n",
       "      <th>4</th>\n",
       "      <td>0.211783</td>\n",
       "      <td>0.152862</td>\n",
       "      <td>0.216020</td>\n",
       "      <td>0.163486</td>\n",
       "      <td>0.218518</td>\n",
       "      <td>0.179039</td>\n",
       "      <td>0.225282</td>\n",
       "      <td>0.163869</td>\n",
       "      <td>linearSVR</td>\n",
       "    </tr>\n",
       "  </tbody>\n",
       "</table>\n",
       "</div>"
      ],
      "text/plain": [
       "   client_data1  client_time1  client_data2  client_time2  client_data3  \\\n",
       "0      0.222270      0.010939      0.223302      0.016511      0.224021   \n",
       "1      0.222270      0.015447      0.223302      0.019307      0.224021   \n",
       "2      0.222270      0.015393      0.223302      0.014606      0.224021   \n",
       "3      0.222270      0.015276      0.223302      0.013431      0.224021   \n",
       "4      0.211783      0.152862      0.216020      0.163486      0.218518   \n",
       "\n",
       "   client_time3  client_data4  client_time4              model  \n",
       "0      0.021223      0.230759      0.012161  linear_regression  \n",
       "1      0.029146      0.230759      0.014056  linear_regression  \n",
       "2      0.015327      0.230759      0.021031  linear_regression  \n",
       "3      0.015049      0.230759      0.016273  linear_regression  \n",
       "4      0.179039      0.225282      0.163869          linearSVR  "
      ]
     },
     "execution_count": 24,
     "metadata": {},
     "output_type": "execute_result"
    }
   ],
   "source": [
    "dfs = []\n",
    "for model, data in baselines.items():\n",
    "    df = pd.DataFrame.from_dict(data)\n",
    "    df['model'] = model\n",
    "    dfs.append(df)\n",
    "\n",
    "baseline_df = pd.concat(dfs, axis=0, ignore_index=True)\n",
    "baseline_df.head()"
   ]
  },
  {
   "cell_type": "code",
   "execution_count": 25,
   "metadata": {},
   "outputs": [
    {
     "data": {
      "text/html": [
       "<div>\n",
       "<style scoped>\n",
       "    .dataframe tbody tr th:only-of-type {\n",
       "        vertical-align: middle;\n",
       "    }\n",
       "\n",
       "    .dataframe tbody tr th {\n",
       "        vertical-align: top;\n",
       "    }\n",
       "\n",
       "    .dataframe thead th {\n",
       "        text-align: right;\n",
       "    }\n",
       "</style>\n",
       "<table border=\"1\" class=\"dataframe\">\n",
       "  <thead>\n",
       "    <tr style=\"text-align: right;\">\n",
       "      <th></th>\n",
       "      <th>client_data1</th>\n",
       "      <th>client_time1</th>\n",
       "      <th>client_data2</th>\n",
       "      <th>client_time2</th>\n",
       "      <th>client_data3</th>\n",
       "      <th>client_time3</th>\n",
       "      <th>client_data4</th>\n",
       "      <th>client_time4</th>\n",
       "    </tr>\n",
       "    <tr>\n",
       "      <th>model</th>\n",
       "      <th></th>\n",
       "      <th></th>\n",
       "      <th></th>\n",
       "      <th></th>\n",
       "      <th></th>\n",
       "      <th></th>\n",
       "      <th></th>\n",
       "      <th></th>\n",
       "    </tr>\n",
       "  </thead>\n",
       "  <tbody>\n",
       "    <tr>\n",
       "      <th>CNN</th>\n",
       "      <td>0.215252</td>\n",
       "      <td>11.871319</td>\n",
       "      <td>0.219829</td>\n",
       "      <td>12.152645</td>\n",
       "      <td>0.223448</td>\n",
       "      <td>11.863196</td>\n",
       "      <td>0.233304</td>\n",
       "      <td>13.173181</td>\n",
       "    </tr>\n",
       "    <tr>\n",
       "      <th>LSTM</th>\n",
       "      <td>0.214183</td>\n",
       "      <td>31.722968</td>\n",
       "      <td>0.219383</td>\n",
       "      <td>33.467527</td>\n",
       "      <td>0.224335</td>\n",
       "      <td>33.840387</td>\n",
       "      <td>0.225936</td>\n",
       "      <td>29.083344</td>\n",
       "    </tr>\n",
       "    <tr>\n",
       "      <th>MLP</th>\n",
       "      <td>0.227788</td>\n",
       "      <td>13.465819</td>\n",
       "      <td>0.233096</td>\n",
       "      <td>12.574851</td>\n",
       "      <td>0.227681</td>\n",
       "      <td>12.460185</td>\n",
       "      <td>0.234444</td>\n",
       "      <td>13.460793</td>\n",
       "    </tr>\n",
       "    <tr>\n",
       "      <th>linearSVR</th>\n",
       "      <td>0.211739</td>\n",
       "      <td>0.163347</td>\n",
       "      <td>0.215972</td>\n",
       "      <td>0.151038</td>\n",
       "      <td>0.218478</td>\n",
       "      <td>0.170436</td>\n",
       "      <td>0.225334</td>\n",
       "      <td>0.179029</td>\n",
       "    </tr>\n",
       "    <tr>\n",
       "      <th>linear_regression</th>\n",
       "      <td>0.222270</td>\n",
       "      <td>0.014264</td>\n",
       "      <td>0.223302</td>\n",
       "      <td>0.015964</td>\n",
       "      <td>0.224021</td>\n",
       "      <td>0.020186</td>\n",
       "      <td>0.230759</td>\n",
       "      <td>0.015880</td>\n",
       "    </tr>\n",
       "  </tbody>\n",
       "</table>\n",
       "</div>"
      ],
      "text/plain": [
       "                   client_data1  client_time1  client_data2  client_time2  \\\n",
       "model                                                                       \n",
       "CNN                    0.215252     11.871319      0.219829     12.152645   \n",
       "LSTM                   0.214183     31.722968      0.219383     33.467527   \n",
       "MLP                    0.227788     13.465819      0.233096     12.574851   \n",
       "linearSVR              0.211739      0.163347      0.215972      0.151038   \n",
       "linear_regression      0.222270      0.014264      0.223302      0.015964   \n",
       "\n",
       "                   client_data3  client_time3  client_data4  client_time4  \n",
       "model                                                                      \n",
       "CNN                    0.223448     11.863196      0.233304     13.173181  \n",
       "LSTM                   0.224335     33.840387      0.225936     29.083344  \n",
       "MLP                    0.227681     12.460185      0.234444     13.460793  \n",
       "linearSVR              0.218478      0.170436      0.225334      0.179029  \n",
       "linear_regression      0.224021      0.020186      0.230759      0.015880  "
      ]
     },
     "execution_count": 25,
     "metadata": {},
     "output_type": "execute_result"
    }
   ],
   "source": [
    "baseline_averages = baseline_df.groupby(\"model\").mean()\n",
    "baseline_averages"
   ]
  },
  {
   "cell_type": "code",
   "execution_count": 26,
   "metadata": {},
   "outputs": [
    {
     "data": {
      "text/plain": [
       "<AxesSubplot: ylabel='Density'>"
      ]
     },
     "execution_count": 26,
     "metadata": {},
     "output_type": "execute_result"
    },
    {
     "data": {
      "image/png": "[encoded data removed]",
      "text/plain": [
       "<Figure size 640x480 with 1 Axes>"
      ]
     },
     "metadata": {},
     "output_type": "display_data"
    }
   ],
   "source": [
    "temp_df = baseline_df.copy(deep=True)\n",
    "temp_df[\"model\"] = temp_df[\"model\"].apply(lambda x: f'{x} basline')\n",
    "#fig = sns.boxplot(temp_df, x=\"client_data4\", y=\"model\")\n",
    "#fig = sns.boxplot(results_only_df, x=\"losses_distributed\", y=\"model\")\n",
    "#plt.show()\n",
    "\n",
    "fig, ax = plt.subplots()\n",
    "sns.kdeplot(data=[temp_df[\"client_data1\"], temp_df[\"client_data2\"], temp_df[\"client_data3\"], temp_df[\"client_data4\"], results_only_df[\"losses_distributed\"]], ax=ax)"
   ]
  },
  {
   "cell_type": "code",
   "execution_count": 27,
   "metadata": {},
   "outputs": [
    {
     "name": "stdout",
     "output_type": "stream",
     "text": [
      "\n",
      "Mean baseline for data of 1 client: 0.21824637307409445\n",
      "Mean baseline for data of 2 clients: 0.22231626565889617\n",
      "Mean baseline for data of 3 clients: 0.22359249364146358\n",
      "Mean baseline for data of 4 clients: 0.2299554985734487\n",
      "------------------------------------------------------------------------------\n",
      "Mean for FL with 2 clients:0.22584150387105262\n",
      "Mean for FL with 4 clients: 0.2188825170266667\n",
      "\n"
     ]
    }
   ],
   "source": [
    "print(f\"\"\"\n",
    "Mean baseline for data of 1 client: {baseline_averages[\"client_data1\"].mean()}\n",
    "Mean baseline for data of 2 clients: {baseline_averages[\"client_data2\"].mean()}\n",
    "Mean baseline for data of 3 clients: {baseline_averages[\"client_data3\"].mean()}\n",
    "Mean baseline for data of 4 clients: {baseline_averages[\"client_data4\"].mean()}\n",
    "------------------------------------------------------------------------------\n",
    "Mean for FL with 2 clients:{two_rounds_df[\"losses_distributed\"].mean()}\n",
    "Mean for FL with 4 clients: {four_rounds_df[\"losses_distributed\"].mean()}\n",
    "\"\"\")"
   ]
  },
  {
   "attachments": {},
   "cell_type": "markdown",
   "metadata": {},
   "source": [
    "The data suggests that combining data from multiple weather stations and training them centrally actually decreases the accuracy of the model. This does not seem to be the case for the FL setting. How does the skewness and kurosis looks for the distributions?"
   ]
  },
  {
   "cell_type": "code",
   "execution_count": 28,
   "metadata": {},
   "outputs": [
    {
     "data": {
      "text/html": [
       "<div>\n",
       "<style scoped>\n",
       "    .dataframe tbody tr th:only-of-type {\n",
       "        vertical-align: middle;\n",
       "    }\n",
       "\n",
       "    .dataframe tbody tr th {\n",
       "        vertical-align: top;\n",
       "    }\n",
       "\n",
       "    .dataframe thead th {\n",
       "        text-align: right;\n",
       "    }\n",
       "</style>\n",
       "<table border=\"1\" class=\"dataframe\">\n",
       "  <thead>\n",
       "    <tr style=\"text-align: right;\">\n",
       "      <th></th>\n",
       "      <th>scenario</th>\n",
       "      <th>mean</th>\n",
       "      <th>std</th>\n",
       "      <th>skew</th>\n",
       "      <th>kurtosis</th>\n",
       "    </tr>\n",
       "  </thead>\n",
       "  <tbody>\n",
       "    <tr>\n",
       "      <th>0</th>\n",
       "      <td>Baseline 1 clients data</td>\n",
       "      <td>0.218246</td>\n",
       "      <td>0.006615</td>\n",
       "      <td>0.812232</td>\n",
       "      <td>-1.018635</td>\n",
       "    </tr>\n",
       "    <tr>\n",
       "      <th>1</th>\n",
       "      <td>Baseline 2 clients data</td>\n",
       "      <td>0.222316</td>\n",
       "      <td>0.006561</td>\n",
       "      <td>1.412421</td>\n",
       "      <td>2.274488</td>\n",
       "    </tr>\n",
       "    <tr>\n",
       "      <th>2</th>\n",
       "      <td>Baseline 3 clients data</td>\n",
       "      <td>0.223592</td>\n",
       "      <td>0.003303</td>\n",
       "      <td>-0.751865</td>\n",
       "      <td>2.128932</td>\n",
       "    </tr>\n",
       "    <tr>\n",
       "      <th>3</th>\n",
       "      <td>Baseline 4 clients data</td>\n",
       "      <td>0.229955</td>\n",
       "      <td>0.004169</td>\n",
       "      <td>-0.202155</td>\n",
       "      <td>-2.830588</td>\n",
       "    </tr>\n",
       "    <tr>\n",
       "      <th>4</th>\n",
       "      <td>FL with 2 clients</td>\n",
       "      <td>0.225842</td>\n",
       "      <td>0.014977</td>\n",
       "      <td>1.569314</td>\n",
       "      <td>5.696400</td>\n",
       "    </tr>\n",
       "    <tr>\n",
       "      <th>5</th>\n",
       "      <td>FL with 4 clients</td>\n",
       "      <td>0.218883</td>\n",
       "      <td>0.013250</td>\n",
       "      <td>-0.848535</td>\n",
       "      <td>0.290805</td>\n",
       "    </tr>\n",
       "  </tbody>\n",
       "</table>\n",
       "</div>"
      ],
      "text/plain": [
       "                  scenario      mean       std      skew  kurtosis\n",
       "0  Baseline 1 clients data  0.218246  0.006615  0.812232 -1.018635\n",
       "1  Baseline 2 clients data  0.222316  0.006561  1.412421  2.274488\n",
       "2  Baseline 3 clients data  0.223592  0.003303 -0.751865  2.128932\n",
       "3  Baseline 4 clients data  0.229955  0.004169 -0.202155 -2.830588\n",
       "4        FL with 2 clients  0.225842  0.014977  1.569314  5.696400\n",
       "5        FL with 4 clients  0.218883  0.013250 -0.848535  0.290805"
      ]
     },
     "execution_count": 28,
     "metadata": {},
     "output_type": "execute_result"
    }
   ],
   "source": [
    "baseline_fl_dist_df = pd.DataFrame(([[\"Baseline 1 clients data\", baseline_averages[\"client_data1\"].mean(), baseline_averages[\"client_data1\"].std(), baseline_averages[\"client_data1\"].skew(), baseline_averages[\"client_data1\"].kurtosis()],\n",
    "    [\"Baseline 2 clients data\", baseline_averages[\"client_data2\"].mean(), baseline_averages[\"client_data2\"].std(), baseline_averages[\"client_data2\"].skew(), baseline_averages[\"client_data2\"].kurtosis()],\n",
    "    [\"Baseline 3 clients data\", baseline_averages[\"client_data3\"].mean(), baseline_averages[\"client_data3\"].std(), baseline_averages[\"client_data3\"].skew(), baseline_averages[\"client_data3\"].kurtosis()],\n",
    "    [\"Baseline 4 clients data\", baseline_averages[\"client_data4\"].mean(), baseline_averages[\"client_data4\"].std(), baseline_averages[\"client_data4\"].skew(), baseline_averages[\"client_data4\"].kurtosis()],\n",
    "    [\"FL with 2 clients\", two_rounds_df[\"losses_distributed\"].mean(), two_rounds_df[\"losses_distributed\"].std(), two_rounds_df[\"losses_distributed\"].skew(), two_rounds_df[\"losses_distributed\"].kurtosis()],\n",
    "    [\"FL with 4 clients\", four_rounds_df[\"losses_distributed\"].mean(), four_rounds_df[\"losses_distributed\"].std(), four_rounds_df[\"losses_distributed\"].skew(), four_rounds_df[\"losses_distributed\"].kurtosis()]\n",
    "]), columns=[\"scenario\", \"mean\", \"std\", \"skew\", \"kurtosis\"])\n",
    "\n",
    "baseline_fl_dist_df"
   ]
  },
  {
   "cell_type": "code",
   "execution_count": 29,
   "metadata": {},
   "outputs": [
    {
     "data": {
      "text/html": [
       "<div>\n",
       "<style scoped>\n",
       "    .dataframe tbody tr th:only-of-type {\n",
       "        vertical-align: middle;\n",
       "    }\n",
       "\n",
       "    .dataframe tbody tr th {\n",
       "        vertical-align: top;\n",
       "    }\n",
       "\n",
       "    .dataframe thead th {\n",
       "        text-align: right;\n",
       "    }\n",
       "</style>\n",
       "<table border=\"1\" class=\"dataframe\">\n",
       "  <thead>\n",
       "    <tr style=\"text-align: right;\">\n",
       "      <th></th>\n",
       "      <th>date</th>\n",
       "      <th>model</th>\n",
       "      <th>dataset</th>\n",
       "      <th>rounds</th>\n",
       "      <th>losses_distributed</th>\n",
       "      <th>time</th>\n",
       "      <th>number_of_clients</th>\n",
       "      <th>entries</th>\n",
       "      <th>number_of_samples</th>\n",
       "      <th>attributes</th>\n",
       "      <th>stations</th>\n",
       "      <th>scenario</th>\n",
       "      <th>percentage_of_testing_data</th>\n",
       "      <th>loss</th>\n",
       "      <th>epochs</th>\n",
       "      <th>hidden_layers</th>\n",
       "    </tr>\n",
       "  </thead>\n",
       "  <tbody>\n",
       "    <tr>\n",
       "      <th>0</th>\n",
       "      <td>1970-01-01</td>\n",
       "      <td>linear regression</td>\n",
       "      <td>weather</td>\n",
       "      <td>2</td>\n",
       "      <td>[[1, 0.2226459577], [2, 0.2234555605]]</td>\n",
       "      <td>0.020452</td>\n",
       "      <td>2</td>\n",
       "      <td>10</td>\n",
       "      <td>10000</td>\n",
       "      <td>[temp, rhum, dwpt]</td>\n",
       "      <td>[berlin_alexanderplatz, frankfurt_am_main_west...</td>\n",
       "      <td>separate</td>\n",
       "      <td>0.2</td>\n",
       "      <td>MAE</td>\n",
       "      <td>10</td>\n",
       "      <td>5</td>\n",
       "    </tr>\n",
       "    <tr>\n",
       "      <th>1</th>\n",
       "      <td>1970-01-01</td>\n",
       "      <td>linearSVR</td>\n",
       "      <td>weather</td>\n",
       "      <td>2</td>\n",
       "      <td>[[1, 0.2140126819], [2, 0.21787175820000002]]</td>\n",
       "      <td>0.071308</td>\n",
       "      <td>2</td>\n",
       "      <td>10</td>\n",
       "      <td>10000</td>\n",
       "      <td>[temp, rhum, dwpt]</td>\n",
       "      <td>[berlin_alexanderplatz, frankfurt_am_main_west...</td>\n",
       "      <td>separate</td>\n",
       "      <td>0.2</td>\n",
       "      <td>MAE</td>\n",
       "      <td>10</td>\n",
       "      <td>5</td>\n",
       "    </tr>\n",
       "    <tr>\n",
       "      <th>2</th>\n",
       "      <td>1970-01-01</td>\n",
       "      <td>MLP</td>\n",
       "      <td>weather</td>\n",
       "      <td>2</td>\n",
       "      <td>[[1, 0.2242389992], [2, 0.2104952633]]</td>\n",
       "      <td>2.484462</td>\n",
       "      <td>2</td>\n",
       "      <td>10</td>\n",
       "      <td>10000</td>\n",
       "      <td>[temp, rhum, dwpt]</td>\n",
       "      <td>[berlin_alexanderplatz, frankfurt_am_main_west...</td>\n",
       "      <td>separate</td>\n",
       "      <td>0.2</td>\n",
       "      <td>MAE</td>\n",
       "      <td>2</td>\n",
       "      <td>2</td>\n",
       "    </tr>\n",
       "    <tr>\n",
       "      <th>3</th>\n",
       "      <td>1970-01-01</td>\n",
       "      <td>MLP</td>\n",
       "      <td>weather</td>\n",
       "      <td>2</td>\n",
       "      <td>[[1, 0.21910745650000002], [2, 0.2258445099000...</td>\n",
       "      <td>1.614959</td>\n",
       "      <td>2</td>\n",
       "      <td>10</td>\n",
       "      <td>10000</td>\n",
       "      <td>[temp, rhum, dwpt]</td>\n",
       "      <td>[berlin_alexanderplatz, frankfurt_am_main_west...</td>\n",
       "      <td>separate</td>\n",
       "      <td>0.2</td>\n",
       "      <td>MAE</td>\n",
       "      <td>2</td>\n",
       "      <td>2</td>\n",
       "    </tr>\n",
       "    <tr>\n",
       "      <th>4</th>\n",
       "      <td>1970-01-01</td>\n",
       "      <td>MLP</td>\n",
       "      <td>weather</td>\n",
       "      <td>2</td>\n",
       "      <td>[[1, 0.2284888551], [2, 0.22254440190000002]]</td>\n",
       "      <td>4.183073</td>\n",
       "      <td>2</td>\n",
       "      <td>10</td>\n",
       "      <td>10000</td>\n",
       "      <td>[temp, rhum, dwpt]</td>\n",
       "      <td>[berlin_alexanderplatz, frankfurt_am_main_west...</td>\n",
       "      <td>separate</td>\n",
       "      <td>0.2</td>\n",
       "      <td>MAE</td>\n",
       "      <td>2</td>\n",
       "      <td>3</td>\n",
       "    </tr>\n",
       "  </tbody>\n",
       "</table>\n",
       "</div>"
      ],
      "text/plain": [
       "        date              model  dataset  rounds  \\\n",
       "0 1970-01-01  linear regression  weather       2   \n",
       "1 1970-01-01          linearSVR  weather       2   \n",
       "2 1970-01-01                MLP  weather       2   \n",
       "3 1970-01-01                MLP  weather       2   \n",
       "4 1970-01-01                MLP  weather       2   \n",
       "\n",
       "                                  losses_distributed      time  \\\n",
       "0             [[1, 0.2226459577], [2, 0.2234555605]]  0.020452   \n",
       "1      [[1, 0.2140126819], [2, 0.21787175820000002]]  0.071308   \n",
       "2             [[1, 0.2242389992], [2, 0.2104952633]]  2.484462   \n",
       "3  [[1, 0.21910745650000002], [2, 0.2258445099000...  1.614959   \n",
       "4      [[1, 0.2284888551], [2, 0.22254440190000002]]  4.183073   \n",
       "\n",
       "   number_of_clients  entries  number_of_samples          attributes  \\\n",
       "0                  2       10              10000  [temp, rhum, dwpt]   \n",
       "1                  2       10              10000  [temp, rhum, dwpt]   \n",
       "2                  2       10              10000  [temp, rhum, dwpt]   \n",
       "3                  2       10              10000  [temp, rhum, dwpt]   \n",
       "4                  2       10              10000  [temp, rhum, dwpt]   \n",
       "\n",
       "                                            stations  scenario  \\\n",
       "0  [berlin_alexanderplatz, frankfurt_am_main_west...  separate   \n",
       "1  [berlin_alexanderplatz, frankfurt_am_main_west...  separate   \n",
       "2  [berlin_alexanderplatz, frankfurt_am_main_west...  separate   \n",
       "3  [berlin_alexanderplatz, frankfurt_am_main_west...  separate   \n",
       "4  [berlin_alexanderplatz, frankfurt_am_main_west...  separate   \n",
       "\n",
       "   percentage_of_testing_data loss  epochs  hidden_layers  \n",
       "0                         0.2  MAE      10              5  \n",
       "1                         0.2  MAE      10              5  \n",
       "2                         0.2  MAE       2              2  \n",
       "3                         0.2  MAE       2              2  \n",
       "4                         0.2  MAE       2              3  "
      ]
     },
     "execution_count": 29,
     "metadata": {},
     "output_type": "execute_result"
    }
   ],
   "source": [
    "time_diff_df.head()"
   ]
  },
  {
   "attachments": {},
   "cell_type": "markdown",
   "metadata": {},
   "source": [
    "## Stage Two - Comparing the Performances to the Baselines"
   ]
  },
  {
   "attachments": {},
   "cell_type": "markdown",
   "metadata": {},
   "source": [
    "This section compares the baselines to individual FL model configurations. Two types of FL configurations are considered. The first one uses the same hyperparameters as the baselines, the second one are the models with the best recorded loss. Every FL model gets trained five times again to minimize the effect of random initialization."
   ]
  },
  {
   "cell_type": "code",
   "execution_count": 30,
   "metadata": {},
   "outputs": [],
   "source": [
    "fl_models_df = pd.read_json(\"../weather_best_model_logs.json\")\n",
    "\n",
    "best_fl_models = fl_models_df.iloc[:20]\n",
    "optimal_fl_models = fl_models_df.iloc[20:]"
   ]
  },
  {
   "cell_type": "code",
   "execution_count": 31,
   "metadata": {},
   "outputs": [
    {
     "data": {
      "text/html": [
       "<div>\n",
       "<style scoped>\n",
       "    .dataframe tbody tr th:only-of-type {\n",
       "        vertical-align: middle;\n",
       "    }\n",
       "\n",
       "    .dataframe tbody tr th {\n",
       "        vertical-align: top;\n",
       "    }\n",
       "\n",
       "    .dataframe thead th {\n",
       "        text-align: right;\n",
       "    }\n",
       "</style>\n",
       "<table border=\"1\" class=\"dataframe\">\n",
       "  <thead>\n",
       "    <tr style=\"text-align: right;\">\n",
       "      <th></th>\n",
       "      <th>date</th>\n",
       "      <th>model</th>\n",
       "      <th>dataset</th>\n",
       "      <th>rounds</th>\n",
       "      <th>losses_distributed</th>\n",
       "      <th>time</th>\n",
       "      <th>number_of_clients</th>\n",
       "      <th>entries</th>\n",
       "      <th>number_of_samples</th>\n",
       "      <th>attributes</th>\n",
       "      <th>stations</th>\n",
       "      <th>scenario</th>\n",
       "      <th>percentage_of_testing_data</th>\n",
       "      <th>loss</th>\n",
       "      <th>epochs</th>\n",
       "      <th>hidden_layers</th>\n",
       "    </tr>\n",
       "  </thead>\n",
       "  <tbody>\n",
       "    <tr>\n",
       "      <th>20</th>\n",
       "      <td>1970-01-01 00:00:00.000000000</td>\n",
       "      <td>MLP</td>\n",
       "      <td>weather</td>\n",
       "      <td>4</td>\n",
       "      <td>[[1, 0.21519848700000002], [2, 0.2005374432], ...</td>\n",
       "      <td>[[1, 14980.6917905], [2, 14999.3559206], [3, 1...</td>\n",
       "      <td>2</td>\n",
       "      <td>10</td>\n",
       "      <td>10000</td>\n",
       "      <td>[temp, rhum, dwpt]</td>\n",
       "      <td>[berlin_alexanderplatz, frankfurt_am_main_west...</td>\n",
       "      <td>separate</td>\n",
       "      <td>0.2</td>\n",
       "      <td>MAE</td>\n",
       "      <td>10</td>\n",
       "      <td>5</td>\n",
       "    </tr>\n",
       "    <tr>\n",
       "      <th>21</th>\n",
       "      <td>1970-01-01 00:00:00.000000000</td>\n",
       "      <td>MLP</td>\n",
       "      <td>weather</td>\n",
       "      <td>4</td>\n",
       "      <td>[[1, 0.2116634026], [2, 0.2057350501], [3, 0.1...</td>\n",
       "      <td>[[1, 15065.6413317], [2, 15084.2653377], [3, 1...</td>\n",
       "      <td>2</td>\n",
       "      <td>10</td>\n",
       "      <td>10000</td>\n",
       "      <td>[temp, rhum, dwpt]</td>\n",
       "      <td>[berlin_alexanderplatz, frankfurt_am_main_west...</td>\n",
       "      <td>separate</td>\n",
       "      <td>0.2</td>\n",
       "      <td>MAE</td>\n",
       "      <td>10</td>\n",
       "      <td>5</td>\n",
       "    </tr>\n",
       "    <tr>\n",
       "      <th>22</th>\n",
       "      <td>1970-01-01 00:00:00.000000000</td>\n",
       "      <td>MLP</td>\n",
       "      <td>weather</td>\n",
       "      <td>4</td>\n",
       "      <td>[[1, 0.2174249068], [2, 0.2002970204], [3, 0.1...</td>\n",
       "      <td>[[1, 15151.7634301], [2, 15170.2976487], [3, 1...</td>\n",
       "      <td>2</td>\n",
       "      <td>10</td>\n",
       "      <td>10000</td>\n",
       "      <td>[temp, rhum, dwpt]</td>\n",
       "      <td>[berlin_alexanderplatz, frankfurt_am_main_west...</td>\n",
       "      <td>separate</td>\n",
       "      <td>0.2</td>\n",
       "      <td>MAE</td>\n",
       "      <td>10</td>\n",
       "      <td>5</td>\n",
       "    </tr>\n",
       "    <tr>\n",
       "      <th>23</th>\n",
       "      <td>1970-01-01 00:00:00.000000000</td>\n",
       "      <td>MLP</td>\n",
       "      <td>weather</td>\n",
       "      <td>4</td>\n",
       "      <td>[[1, 0.2144285068], [2, 0.2090328783], [3, 0.1...</td>\n",
       "      <td>[[1, 15236.8261356], [2, 15255.6471677], [3, 1...</td>\n",
       "      <td>2</td>\n",
       "      <td>10</td>\n",
       "      <td>10000</td>\n",
       "      <td>[temp, rhum, dwpt]</td>\n",
       "      <td>[berlin_alexanderplatz, frankfurt_am_main_west...</td>\n",
       "      <td>separate</td>\n",
       "      <td>0.2</td>\n",
       "      <td>MAE</td>\n",
       "      <td>10</td>\n",
       "      <td>5</td>\n",
       "    </tr>\n",
       "    <tr>\n",
       "      <th>24</th>\n",
       "      <td>1970-01-01 00:00:00.000000001</td>\n",
       "      <td>CNN</td>\n",
       "      <td>weather</td>\n",
       "      <td>4</td>\n",
       "      <td>[[1, 0.2160531953], [2, 0.21621894090000002], ...</td>\n",
       "      <td>[[1, 15317.5592742], [2, 15331.1331537], [3, 1...</td>\n",
       "      <td>2</td>\n",
       "      <td>10</td>\n",
       "      <td>10000</td>\n",
       "      <td>[temp, rhum, dwpt]</td>\n",
       "      <td>[berlin_alexanderplatz, frankfurt_am_main_west...</td>\n",
       "      <td>separate</td>\n",
       "      <td>0.2</td>\n",
       "      <td>MAE</td>\n",
       "      <td>10</td>\n",
       "      <td>4</td>\n",
       "    </tr>\n",
       "  </tbody>\n",
       "</table>\n",
       "</div>"
      ],
      "text/plain": [
       "                            date model  dataset  rounds  \\\n",
       "20 1970-01-01 00:00:00.000000000   MLP  weather       4   \n",
       "21 1970-01-01 00:00:00.000000000   MLP  weather       4   \n",
       "22 1970-01-01 00:00:00.000000000   MLP  weather       4   \n",
       "23 1970-01-01 00:00:00.000000000   MLP  weather       4   \n",
       "24 1970-01-01 00:00:00.000000001   CNN  weather       4   \n",
       "\n",
       "                                   losses_distributed  \\\n",
       "20  [[1, 0.21519848700000002], [2, 0.2005374432], ...   \n",
       "21  [[1, 0.2116634026], [2, 0.2057350501], [3, 0.1...   \n",
       "22  [[1, 0.2174249068], [2, 0.2002970204], [3, 0.1...   \n",
       "23  [[1, 0.2144285068], [2, 0.2090328783], [3, 0.1...   \n",
       "24  [[1, 0.2160531953], [2, 0.21621894090000002], ...   \n",
       "\n",
       "                                                 time  number_of_clients  \\\n",
       "20  [[1, 14980.6917905], [2, 14999.3559206], [3, 1...                  2   \n",
       "21  [[1, 15065.6413317], [2, 15084.2653377], [3, 1...                  2   \n",
       "22  [[1, 15151.7634301], [2, 15170.2976487], [3, 1...                  2   \n",
       "23  [[1, 15236.8261356], [2, 15255.6471677], [3, 1...                  2   \n",
       "24  [[1, 15317.5592742], [2, 15331.1331537], [3, 1...                  2   \n",
       "\n",
       "    entries  number_of_samples          attributes  \\\n",
       "20       10              10000  [temp, rhum, dwpt]   \n",
       "21       10              10000  [temp, rhum, dwpt]   \n",
       "22       10              10000  [temp, rhum, dwpt]   \n",
       "23       10              10000  [temp, rhum, dwpt]   \n",
       "24       10              10000  [temp, rhum, dwpt]   \n",
       "\n",
       "                                             stations  scenario  \\\n",
       "20  [berlin_alexanderplatz, frankfurt_am_main_west...  separate   \n",
       "21  [berlin_alexanderplatz, frankfurt_am_main_west...  separate   \n",
       "22  [berlin_alexanderplatz, frankfurt_am_main_west...  separate   \n",
       "23  [berlin_alexanderplatz, frankfurt_am_main_west...  separate   \n",
       "24  [berlin_alexanderplatz, frankfurt_am_main_west...  separate   \n",
       "\n",
       "    percentage_of_testing_data loss  epochs  hidden_layers  \n",
       "20                         0.2  MAE      10              5  \n",
       "21                         0.2  MAE      10              5  \n",
       "22                         0.2  MAE      10              5  \n",
       "23                         0.2  MAE      10              5  \n",
       "24                         0.2  MAE      10              4  "
      ]
     },
     "execution_count": 31,
     "metadata": {},
     "output_type": "execute_result"
    }
   ],
   "source": [
    "optimal_fl_models.head()"
   ]
  },
  {
   "cell_type": "code",
   "execution_count": 32,
   "metadata": {},
   "outputs": [
    {
     "data": {
      "text/html": [
       "<div>\n",
       "<style scoped>\n",
       "    .dataframe tbody tr th:only-of-type {\n",
       "        vertical-align: middle;\n",
       "    }\n",
       "\n",
       "    .dataframe tbody tr th {\n",
       "        vertical-align: top;\n",
       "    }\n",
       "\n",
       "    .dataframe thead th {\n",
       "        text-align: right;\n",
       "    }\n",
       "</style>\n",
       "<table border=\"1\" class=\"dataframe\">\n",
       "  <thead>\n",
       "    <tr style=\"text-align: right;\">\n",
       "      <th></th>\n",
       "      <th>client_data1</th>\n",
       "      <th>client_time1</th>\n",
       "      <th>client_data2</th>\n",
       "      <th>client_time2</th>\n",
       "      <th>client_data3</th>\n",
       "      <th>client_time3</th>\n",
       "      <th>client_data4</th>\n",
       "      <th>client_time4</th>\n",
       "      <th>model</th>\n",
       "    </tr>\n",
       "  </thead>\n",
       "  <tbody>\n",
       "    <tr>\n",
       "      <th>0</th>\n",
       "      <td>0.222270</td>\n",
       "      <td>0.010939</td>\n",
       "      <td>0.223302</td>\n",
       "      <td>0.016511</td>\n",
       "      <td>0.224021</td>\n",
       "      <td>0.021223</td>\n",
       "      <td>0.230759</td>\n",
       "      <td>0.012161</td>\n",
       "      <td>linear_regression</td>\n",
       "    </tr>\n",
       "    <tr>\n",
       "      <th>1</th>\n",
       "      <td>0.222270</td>\n",
       "      <td>0.015447</td>\n",
       "      <td>0.223302</td>\n",
       "      <td>0.019307</td>\n",
       "      <td>0.224021</td>\n",
       "      <td>0.029146</td>\n",
       "      <td>0.230759</td>\n",
       "      <td>0.014056</td>\n",
       "      <td>linear_regression</td>\n",
       "    </tr>\n",
       "    <tr>\n",
       "      <th>2</th>\n",
       "      <td>0.222270</td>\n",
       "      <td>0.015393</td>\n",
       "      <td>0.223302</td>\n",
       "      <td>0.014606</td>\n",
       "      <td>0.224021</td>\n",
       "      <td>0.015327</td>\n",
       "      <td>0.230759</td>\n",
       "      <td>0.021031</td>\n",
       "      <td>linear_regression</td>\n",
       "    </tr>\n",
       "    <tr>\n",
       "      <th>3</th>\n",
       "      <td>0.222270</td>\n",
       "      <td>0.015276</td>\n",
       "      <td>0.223302</td>\n",
       "      <td>0.013431</td>\n",
       "      <td>0.224021</td>\n",
       "      <td>0.015049</td>\n",
       "      <td>0.230759</td>\n",
       "      <td>0.016273</td>\n",
       "      <td>linear_regression</td>\n",
       "    </tr>\n",
       "    <tr>\n",
       "      <th>4</th>\n",
       "      <td>0.211783</td>\n",
       "      <td>0.152862</td>\n",
       "      <td>0.216020</td>\n",
       "      <td>0.163486</td>\n",
       "      <td>0.218518</td>\n",
       "      <td>0.179039</td>\n",
       "      <td>0.225282</td>\n",
       "      <td>0.163869</td>\n",
       "      <td>linearSVR</td>\n",
       "    </tr>\n",
       "  </tbody>\n",
       "</table>\n",
       "</div>"
      ],
      "text/plain": [
       "   client_data1  client_time1  client_data2  client_time2  client_data3  \\\n",
       "0      0.222270      0.010939      0.223302      0.016511      0.224021   \n",
       "1      0.222270      0.015447      0.223302      0.019307      0.224021   \n",
       "2      0.222270      0.015393      0.223302      0.014606      0.224021   \n",
       "3      0.222270      0.015276      0.223302      0.013431      0.224021   \n",
       "4      0.211783      0.152862      0.216020      0.163486      0.218518   \n",
       "\n",
       "   client_time3  client_data4  client_time4              model  \n",
       "0      0.021223      0.230759      0.012161  linear_regression  \n",
       "1      0.029146      0.230759      0.014056  linear_regression  \n",
       "2      0.015327      0.230759      0.021031  linear_regression  \n",
       "3      0.015049      0.230759      0.016273  linear_regression  \n",
       "4      0.179039      0.225282      0.163869          linearSVR  "
      ]
     },
     "execution_count": 32,
     "metadata": {},
     "output_type": "execute_result"
    }
   ],
   "source": [
    "baseline_df.head()"
   ]
  },
  {
   "attachments": {},
   "cell_type": "markdown",
   "metadata": {},
   "source": [
    "How well have the FL models preformed compared to the baseline? "
   ]
  },
  {
   "cell_type": "code",
   "execution_count": 33,
   "metadata": {},
   "outputs": [],
   "source": [
    "def rename_baseline_models(x):\n",
    "    if x == \"linear_regression\":\n",
    "        return \"linear regression baseline\"\n",
    "    elif x == \"linearSVR\":\n",
    "        return \"linearSVR baseline\"\n",
    "    elif x == \"MLP\":\n",
    "        return \"MLP baseline\"\n",
    "    elif x == \"LSTM\":\n",
    "        return \"LSTM baseline\"\n",
    "    else:\n",
    "        return \"CNN baseline\"\n",
    "\n",
    "temp_df = baseline_df.copy(deep=True)\n",
    "temp_df[\"model\"] = temp_df[\"model\"].apply(rename_baseline_models)\n",
    "temp_df = temp_df[[\"model\", \"client_data4\"]]\n",
    "temp_df.columns = [\"model\", \"losses_distributed\"]\n",
    "\n",
    "results_only_best_fl_df = best_fl_models.copy(deep=True)\n",
    "results_only_best_fl_df[\"losses_distributed\"] = results_only_best_fl_df[\"losses_distributed\"].apply(lambda x: x[-1][-1])\n",
    "results_only_best_fl_df[\"model\"] = results_only_best_fl_df[\"model\"].apply(lambda x: f\"best FL {x}\")\n",
    "\n",
    "\n",
    "\n",
    "results_only_optimal_fl_df = optimal_fl_models.copy(deep=True)\n",
    "results_only_optimal_fl_df[\"losses_distributed\"] = results_only_optimal_fl_df[\"losses_distributed\"].apply(lambda x: x[-1][-1])\n",
    "results_only_optimal_fl_df[\"model\"] = results_only_optimal_fl_df[\"model\"].apply(lambda x: f\"optimal FL {x}\")\n"
   ]
  },
  {
   "cell_type": "code",
   "execution_count": 34,
   "metadata": {},
   "outputs": [],
   "source": [
    "temp_df = pd.concat([temp_df, results_only_best_fl_df, results_only_optimal_fl_df], ignore_index=True)"
   ]
  },
  {
   "cell_type": "code",
   "execution_count": 35,
   "metadata": {},
   "outputs": [],
   "source": [
    "temp_df = temp_df[[\"model\", \"losses_distributed\"]]\n",
    "temp_df.columns = [\"model\", \"loss\"]"
   ]
  },
  {
   "cell_type": "code",
   "execution_count": 36,
   "metadata": {},
   "outputs": [
    {
     "data": {
      "text/plain": [
       "<AxesSubplot: xlabel='loss', ylabel='model'>"
      ]
     },
     "execution_count": 36,
     "metadata": {},
     "output_type": "execute_result"
    },
    {
     "data": {
      "image/png": "[encoded data removed]",
      "text/plain": [
       "<Figure size 640x480 with 1 Axes>"
      ]
     },
     "metadata": {},
     "output_type": "display_data"
    }
   ],
   "source": [
    "sns.boxplot(temp_df, x=\"loss\", y=\"model\")"
   ]
  },
  {
   "attachments": {},
   "cell_type": "markdown",
   "metadata": {},
   "source": [
    "The all FL models beat the baseline models. The FL MLPs and CNNs are also really interesting. \"best FL MLP/CNN\" hyperparameters are based on the best performing models during the FL test run. \"optimal FL MLP/CNN\" are use the optimal hyperparameters found by the centralized hyperparameter tuning. The difference between the models is only minimal, despite them having a different amount of hidden layers, and likely due to the random initialization. The \"optimal FL MLP\" is a little better than \"best FL MLP\" but has a higher variance.\n",
    "\n",
    "It seems FL produces better models than centralized training with multiple combined datasets. How well does FL perform when compared to centralized training with less combined datasets? "
   ]
  },
  {
   "cell_type": "code",
   "execution_count": 37,
   "metadata": {},
   "outputs": [
    {
     "data": {
      "image/png": "[encoded data removed]",
      "text/plain": [
       "<Figure size 640x480 with 1 Axes>"
      ]
     },
     "metadata": {},
     "output_type": "display_data"
    }
   ],
   "source": [
    "fig = sns.kdeplot(baseline_df[\"client_data1\"], fill=True, label=\"centralized training with 1 dataset\")\n",
    "fig = sns.kdeplot(baseline_df[\"client_data2\"], fill=True, label=\"centralized training with 2 datasets\")\n",
    "fig = sns.kdeplot(baseline_df[\"client_data3\"], fill=True, label=\"centralized training with 3 datasets\")\n",
    "fig = sns.kdeplot(baseline_df[\"client_data4\"], fill=True, label=\"centralized training with 4 datasets\")\n",
    "fig = sns.kdeplot(results_only_best_fl_df[\"losses_distributed\"], fill=True, label=\"FL with best parameters\")\n",
    "fig = sns.kdeplot(results_only_optimal_fl_df[\"losses_distributed\"], fill=True, label=\"FL with optimal parameters\")\n",
    "\n",
    "plt.legend(loc='center left', bbox_to_anchor=(1, 0.7))\n",
    "plt.xlabel(\"Loss\")\n",
    "plt.show()"
   ]
  },
  {
   "cell_type": "code",
   "execution_count": 40,
   "metadata": {},
   "outputs": [
    {
     "data": {
      "text/html": [
       "<div>\n",
       "<style scoped>\n",
       "    .dataframe tbody tr th:only-of-type {\n",
       "        vertical-align: middle;\n",
       "    }\n",
       "\n",
       "    .dataframe tbody tr th {\n",
       "        vertical-align: top;\n",
       "    }\n",
       "\n",
       "    .dataframe thead th {\n",
       "        text-align: right;\n",
       "    }\n",
       "</style>\n",
       "<table border=\"1\" class=\"dataframe\">\n",
       "  <thead>\n",
       "    <tr style=\"text-align: right;\">\n",
       "      <th></th>\n",
       "      <th>scenario</th>\n",
       "      <th>mean</th>\n",
       "      <th>std</th>\n",
       "      <th>skew</th>\n",
       "      <th>kurtosis</th>\n",
       "    </tr>\n",
       "  </thead>\n",
       "  <tbody>\n",
       "    <tr>\n",
       "      <th>0</th>\n",
       "      <td>Baseline 1 clients data</td>\n",
       "      <td>0.218246</td>\n",
       "      <td>0.006615</td>\n",
       "      <td>0.812232</td>\n",
       "      <td>-1.018635</td>\n",
       "    </tr>\n",
       "    <tr>\n",
       "      <th>1</th>\n",
       "      <td>Baseline 2 clients data</td>\n",
       "      <td>0.222316</td>\n",
       "      <td>0.006561</td>\n",
       "      <td>1.412421</td>\n",
       "      <td>2.274488</td>\n",
       "    </tr>\n",
       "    <tr>\n",
       "      <th>2</th>\n",
       "      <td>Baseline 3 clients data</td>\n",
       "      <td>0.223592</td>\n",
       "      <td>0.003303</td>\n",
       "      <td>-0.751865</td>\n",
       "      <td>2.128932</td>\n",
       "    </tr>\n",
       "    <tr>\n",
       "      <th>3</th>\n",
       "      <td>Baseline 4 clients data</td>\n",
       "      <td>0.229955</td>\n",
       "      <td>0.004169</td>\n",
       "      <td>-0.202155</td>\n",
       "      <td>-2.830588</td>\n",
       "    </tr>\n",
       "    <tr>\n",
       "      <th>4</th>\n",
       "      <td>FL with best parameters</td>\n",
       "      <td>0.206875</td>\n",
       "      <td>0.016237</td>\n",
       "      <td>-0.594406</td>\n",
       "      <td>-1.110406</td>\n",
       "    </tr>\n",
       "    <tr>\n",
       "      <th>5</th>\n",
       "      <td>FL with optimal parameters</td>\n",
       "      <td>0.190411</td>\n",
       "      <td>0.009361</td>\n",
       "      <td>-0.259862</td>\n",
       "      <td>-1.616235</td>\n",
       "    </tr>\n",
       "  </tbody>\n",
       "</table>\n",
       "</div>"
      ],
      "text/plain": [
       "                     scenario      mean       std      skew  kurtosis\n",
       "0     Baseline 1 clients data  0.218246  0.006615  0.812232 -1.018635\n",
       "1     Baseline 2 clients data  0.222316  0.006561  1.412421  2.274488\n",
       "2     Baseline 3 clients data  0.223592  0.003303 -0.751865  2.128932\n",
       "3     Baseline 4 clients data  0.229955  0.004169 -0.202155 -2.830588\n",
       "4     FL with best parameters  0.206875  0.016237 -0.594406 -1.110406\n",
       "5  FL with optimal parameters  0.190411  0.009361 -0.259862 -1.616235"
      ]
     },
     "execution_count": 40,
     "metadata": {},
     "output_type": "execute_result"
    }
   ],
   "source": [
    "best_optimal_fl_dist_df = pd.DataFrame(([\n",
    "    [\"FL with best parameters\", results_only_best_fl_df[\"losses_distributed\"].mean(), results_only_best_fl_df[\"losses_distributed\"].std(), results_only_best_fl_df[\"losses_distributed\"].skew(), results_only_best_fl_df[\"losses_distributed\"].kurtosis()],\n",
    "    [\"FL with optimal parameters\", results_only_optimal_fl_df[\"losses_distributed\"].mean(), results_only_optimal_fl_df[\"losses_distributed\"].std(), results_only_optimal_fl_df[\"losses_distributed\"].skew(), results_only_optimal_fl_df[\"losses_distributed\"].kurtosis()]\n",
    "]), columns=[\"scenario\", \"mean\", \"std\", \"skew\", \"kurtosis\"])\n",
    "\n",
    "pd.concat([baseline_fl_dist_df.iloc[:4], best_optimal_fl_dist_df], ignore_index=True)"
   ]
  },
  {
   "attachments": {},
   "cell_type": "markdown",
   "metadata": {},
   "source": [
    "This plot shows clearly the advantage of FL over centralized learning. It also suggests that the hyperparameters found by the hyperparameter tuning are a better choice than that found while performing the tests.\n",
    "\n",
    "Now, how do the training times look like?"
   ]
  },
  {
   "cell_type": "code",
   "execution_count": 41,
   "metadata": {},
   "outputs": [],
   "source": [
    "def calculate_training_time(time_array):\n",
    "    #get the timestamps\n",
    "    timestamps = []\n",
    "    for el in time_array:\n",
    "        timestamps.append(el[-1])\n",
    "    \n",
    "    #calculate difference\n",
    "    diff = []\n",
    "    for i in range(len(timestamps)):\n",
    "        if i == len(timestamps)-1:\n",
    "            break\n",
    "        diff.append((timestamps[i+1] - timestamps[i]))\n",
    "    return diff\n",
    "\n",
    "time_diff_best_fl_df = best_fl_models.copy(deep=True)\n",
    "time_diff_best_fl_df[\"time\"] = time_diff_best_fl_df[\"time\"].apply(calculate_training_time)\n",
    "time_diff_best_fl_df[\"time\"] = time_diff_best_fl_df[\"time\"].apply(lambda x: np.array(x).mean())\n",
    "time_diff_best_fl_df[\"model\"] = time_diff_best_fl_df[\"model\"].apply(lambda x: f\"best FL {x}\")\n",
    "\n",
    "\n",
    "time_diff_optimal_fl_df = optimal_fl_models.copy(deep=True)\n",
    "time_diff_optimal_fl_df[\"time\"] = time_diff_optimal_fl_df[\"time\"].apply(calculate_training_time)\n",
    "time_diff_optimal_fl_df[\"time\"] = time_diff_optimal_fl_df[\"time\"].apply(lambda x: np.array(x).mean())\n",
    "time_diff_optimal_fl_df[\"model\"] = time_diff_optimal_fl_df[\"model\"].apply(lambda x: f\"optimal FL {x}\")"
   ]
  },
  {
   "cell_type": "code",
   "execution_count": 47,
   "metadata": {},
   "outputs": [],
   "source": [
    "baseline_time_df = pd.DataFrame(columns=[\"model\", \"time\"])\n",
    "\n",
    "for i in range(1,5):\n",
    "    temp_df = baseline_df[[\"model\", f\"client_time{i}\"]].copy(deep=True)\n",
    "    temp_df[\"model\"] = temp_df[\"model\"].apply(lambda x: \"baseline linear regression\" if x == \"linear_regression\" else f\"baseline {x}\")\n",
    "    temp_df.columns = [\"model\", \"time\"]\n",
    "\n",
    "    baseline_time_df = pd.concat([baseline_time_df, temp_df], ignore_index=True)"
   ]
  },
  {
   "cell_type": "code",
   "execution_count": 53,
   "metadata": {},
   "outputs": [
    {
     "data": {
      "image/png": "[encoded data removed]",
      "text/plain": [
       "<Figure size 640x480 with 1 Axes>"
      ]
     },
     "metadata": {},
     "output_type": "display_data"
    }
   ],
   "source": [
    "ax = sns.barplot(pd.concat([baseline_time_df, time_diff_best_fl_df, time_diff_optimal_fl_df], ignore_index=True), y=\"time\", x=\"model\")\n",
    "\n",
    "ax.set_xticklabels(ax.get_xticklabels(), rotation=40, ha=\"right\")\n",
    "plt.tight_layout()\n",
    "plt.show()"
   ]
  },
  {
   "attachments": {},
   "cell_type": "markdown",
   "metadata": {},
   "source": [
    "Linear regression and linearSVR are almost instantly trained, when compared to the neural networks. There doesn't seem to be a clear pattern. The baseline MLP is better than the FL versions, but the LSTM is slightly worse. The rest is very similar to each other. It also important to note that the way of measuring time cannot be implemented the same way for FL and the baselines. Also, this is only a small number of models and therefore not representative for these model architectures."
   ]
  }
 ],
 "metadata": {
  "kernelspec": {
   "display_name": "Python 3",
   "language": "python",
   "name": "python3"
  },
  "language_info": {
   "codemirror_mode": {
    "name": "ipython",
    "version": 3
   },
   "file_extension": ".py",
   "mimetype": "text/x-python",
   "name": "python",
   "nbconvert_exporter": "python",
   "pygments_lexer": "ipython3",
   "version": "3.10.6"
  },
  "orig_nbformat": 4,
  "vscode": {
   "interpreter": {
    "hash": "767d51c1340bd893661ea55ea3124f6de3c7a262a8b4abca0554b478b1e2ff90"
   }
  }
 },
 "nbformat": 4,
 "nbformat_minor": 2
}
