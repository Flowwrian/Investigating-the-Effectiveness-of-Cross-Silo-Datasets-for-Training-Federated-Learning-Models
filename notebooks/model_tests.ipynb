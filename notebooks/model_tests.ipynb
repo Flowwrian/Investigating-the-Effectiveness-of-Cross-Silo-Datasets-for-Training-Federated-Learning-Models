{
 "cells": [],
 "metadata": {
  "kernelspec": {
   "display_name": "Python 3.10.8 64-bit",
   "language": "python",
   "name": "python3"
  },
  "language_info": {
   "codemirror_mode": {
    "name": "ipython",
    "version": 3
   },
   "file_extension": ".py",
   "mimetype": "text/x-python",
   "name": "python",
   "nbconvert_exporter": "python",
   "pygments_lexer": "ipython3",
   "version": "3.10.8"
  },
  "orig_nbformat": 4,
  "vscode": {
   "interpreter": {
    "hash": "40618217b0b93d0bb65f5cfc48791b5d29cc0ef4cd016193c61e919c13a97846"
   }
  }
 },
 "nbformat": 4,
 "nbformat_minor": 2
}
